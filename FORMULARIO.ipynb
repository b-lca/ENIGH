{
 "cells": [
  {
   "cell_type": "markdown",
   "id": "131121c1-7228-4734-a5a4-4c1697914514",
   "metadata": {},
   "source": [
    "2.Después de la limpieza de la tabla y el cruce contra catálogos, ¿cuál es el tamaño del DataFrame final?\n",
    "(1 Point)\n",
    "\n",
    "(1409409,10)"
   ]
  },
  {
   "cell_type": "markdown",
   "id": "6a271008-ab91-4317-9880-6f95945040b1",
   "metadata": {},
   "source": [
    "3.¿Cuál es el número total de hogares unicos en la tabla?\n",
    "(1 Point)\n",
    "\n",
    "20000\n",
    "\n",
    "1409409\n",
    "\n",
    "25000\n",
    "\n",
    "25364"
   ]
  },
  {
   "cell_type": "markdown",
   "id": "d5e9e550-cdc7-46cb-bbd8-3bf6d37afecf",
   "metadata": {},
   "source": [
    "4.¿Cuál es la combinación de forma de pago 1 y lugar de compra con mayor gasto?\n",
    "(1 Point)\n",
    "\n",
    "Transferencia electrónica de fondos; Tianguis o mercado sobre ruedas\n",
    "\n",
    "Tarjeta de crédito; Internet\n",
    "\n",
    "Tarjeta de crédito; null\n",
    "\n",
    "Efectivo; null\n",
    "\n",
    "Vale; Diconsa\n",
    "\n",
    "Tarjeta de crédito; Tiendas con membresía"
   ]
  },
  {
   "cell_type": "markdown",
   "id": "542df768-a521-4dec-9a87-4cd43d0dafeb",
   "metadata": {},
   "source": [
    "5.¿Cuál es el gasto promedio por hogar (no vivienda)?\n",
    "(1 Point)\n",
    "\n",
    "$13,837.90\n",
    "\n",
    "$13,854.37\n",
    "\n",
    "$13,791.04\n",
    "\n",
    "$13,521.37\n",
    "\n",
    "$13,639.31\n",
    "\n",
    "$13,497.84"
   ]
  },
  {
   "cell_type": "markdown",
   "id": "51ac98b3-38ea-47df-b62a-fce20d2114dc",
   "metadata": {},
   "source": [
    "6.¿Cuál es el top 3 en gasto de productos, bienes o servicios adquirido?\n",
    "(1 Point)\n",
    "(los valores están separados por punto y coma (;)\n",
    "\n",
    "Piezas sueltas de recámara: camas, tocadores, literas, buró, etcétera; Servicio fotográfico, revelado e impresión; Otros transportes: lancha, panga o peaje, coche, camioneta, pick up\n",
    "\n",
    "Gastos turísticos: paquetes, hospedajes, alimentos, tours, etcétera; Chabacano, durazno, melocotón; Chorizo de pollo, jamón y nugget, salchicha, mortadela, etcétera\n",
    "\n",
    "Medicamentos sin receta para: vitaminas; Playeras para niña de 0 a 4 años; Otros: donas y mariposas para el cabello, limas de uñas, pasadores, moños, estuche de manicure, etcétera\n",
    "\n",
    "Algodón, gasas, vendas, jeringas, etcétera; Concentrados y polvos para preparar bebidas; Col y repollo\n",
    "\n",
    "Ron añejo, blanco, con limón; Harina de trigo; Toronja\n",
    "\n",
    "Automóvil y/o guayín; Ayuda a parientes y personas ajenas al hogar, pago de renta a otro hogar; Gasolina Magna"
   ]
  },
  {
   "cell_type": "markdown",
   "id": "0ce43cc3-bd68-4452-a92b-0a1c07771a55",
   "metadata": {},
   "source": [
    "7.¿Cuál es el número total de viviendas unicas en la tabla?\n",
    "(1 Point)\n",
    "\n",
    "1409409\n",
    "\n",
    "25364\n",
    "\n",
    "20000\n",
    "\n",
    "25000"
   ]
  },
  {
   "cell_type": "markdown",
   "id": "e7b99255-1e51-4418-a802-0a194d803b46",
   "metadata": {},
   "source": [
    "8.¿Para los productos, bienes y servicios en las claves ['D002','G009','A227','A093'] cuales son las formas de pago 1 con mayor gasto?\n",
    "(1 Point)\n",
    "(el carácter \"&\" une el producto con la forma de pago, el \";\" separa las combinaciones)\n",
    "\n",
    "Enseñanza adicional & Tarjeta de débito; Seguro de vida capitalizable & ; Insecticidas líquido, en polvo, pastilla, raid eléctrico & Pago móvil; Piezas sueltas para sala (mesa de centro) & ;\n",
    "\n",
    "Seguro de vida capitalizable & ; Insecticidas líquido, en polvo, pastilla, raid eléctrico & Pago móvil; Piezas sueltas para sala (mesa de centro) & ; Gas licuado de petróleo & Efectivo;\n",
    "\n",
    "Piezas sueltas para sala (mesa de centro) & ; Gas licuado de petróleo & Efectivo; Lociones y perfumes & Efectivo; Huevo de gallina blanco y rojo & Efectivo;\n",
    "\n",
    "Cigarros & Tarjeta de crédito; Enseñanza adicional & Tarjeta de débito; Seguro de vida capitalizable & ; Insecticidas líquido, en polvo, pastilla, raid eléctrico & Pago móvil;\n",
    "\n",
    "Insecticidas líquido, en polvo, pastilla, raid eléctrico & Pago móvil; Piezas sueltas para sala (mesa de centro) & ; Gas licuado de petróleo & Efectivo; Lociones y perfumes & Efectivo;\n",
    "\n",
    "Gas licuado de petróleo & Efectivo; Lociones y perfumes & Efectivo; Huevo de gallina blanco y rojo & Efectivo; Licor o cremas de frutas & Tarjeta de débito;"
   ]
  },
  {
   "cell_type": "markdown",
   "id": "140d5407-1524-4657-9b78-e006c1efba29",
   "metadata": {},
   "source": [
    "9.¿De los usuarios con un gasto mayor que cero en \"Gas licuado de petróleo\", cual es el porcentaje de gasto en \"Gas licuado de petróleo\" de dichos clientes?\n",
    "(1 Point)\n",
    "\n",
    "97.25%\n",
    "\n",
    "3.14%\n",
    "\n",
    "1.57%\n",
    "\n",
    "2.75%\n",
    "\n",
    "3.65%\n",
    "\n",
    "98.43%"
   ]
  },
  {
   "cell_type": "markdown",
   "id": "45f49007-c945-44d4-a079-930705a1ef97",
   "metadata": {},
   "source": [
    "10.Para la forma de pago 1 con Tarjeta de crédito ¿Cuál es el gasto más grande?\n",
    "(1 Point)\n",
    "\n",
    "Otras azúcares y mieles\n",
    "\n",
    "Camioneta (pick up)\n",
    "\n",
    "Otros productos de maíz (excepto cereal)\n",
    "\n",
    "Automóvil y/o guayín\n",
    "\n",
    "Pitahaya y tuna\n",
    "\n",
    "Televisión color (incluye portátil), LCD y plasma\n",
    "\n",
    "Motoneta, motocicleta\n",
    "\n",
    "Chícharo\n",
    "\n",
    "Computadora, tabletas"
   ]
  },
  {
   "cell_type": "markdown",
   "id": "333dc6ba-b707-4e8d-9d26-750c024a869c",
   "metadata": {},
   "source": [
    "11.¿Cuál es el porcentaje de gasto que representa el lugar de compra en Supermercados?\n",
    "(1 Point)\n",
    "\n",
    "6.33%\n",
    "\n",
    "23.50%\n",
    "\n",
    "4.44%\n",
    "\n",
    "5.07%\n",
    "\n",
    "1.43%\n",
    "\n",
    "7.44%"
   ]
  }
 ],
 "metadata": {
  "kernelspec": {
   "display_name": "Python 3 (ipykernel)",
   "language": "python",
   "name": "python3"
  },
  "language_info": {
   "codemirror_mode": {
    "name": "ipython",
    "version": 3
   },
   "file_extension": ".py",
   "mimetype": "text/x-python",
   "name": "python",
   "nbconvert_exporter": "python",
   "pygments_lexer": "ipython3",
   "version": "3.9.13"
  }
 },
 "nbformat": 4,
 "nbformat_minor": 5
}
