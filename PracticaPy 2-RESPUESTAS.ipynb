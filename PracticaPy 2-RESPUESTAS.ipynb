{
 "cells": [
  {
   "attachments": {},
   "cell_type": "markdown",
   "metadata": {},
   "source": [
    "## 0.0 Librerías\n",
    "\n",
    "Las librerías por utilizar son las usuales para análisis de datos, junto con json, el cual es un estándar en la programación para almacenar información, la estructura de un JSON es muy similar a los diccionarios de python, y en un sentido practico se manipulan dentro de python parseando (codificando) el archivo como un diccionarío\n"
   ]
  },
  {
   "cell_type": "code",
   "execution_count": 1,
   "metadata": {},
   "outputs": [],
   "source": [
    "import numpy as np\n",
    "import pandas as pd\n",
    "import json\n",
    "import os\n",
    "\n",
    "pd.set_option('display.max_columns',None)"
   ]
  },
  {
   "attachments": {},
   "cell_type": "markdown",
   "metadata": {},
   "source": [
    "## 0.1 Introducción a la manipulación de JSONs\n"
   ]
  },
  {
   "attachments": {},
   "cell_type": "markdown",
   "metadata": {},
   "source": [
    "El siguiente es un ejemplo de como se lee un archivo JSON\n"
   ]
  },
  {
   "cell_type": "code",
   "execution_count": 2,
   "metadata": {},
   "outputs": [],
   "source": [
    "read = open('./metadata.json','r')\n",
    "metadata = json.loads(read.read())\n",
    "read.close()"
   ]
  },
  {
   "attachments": {},
   "cell_type": "markdown",
   "metadata": {},
   "source": [
    "El tipo de variable con el cual se ha cargado en memoria dentro de python es como un diccionario\n"
   ]
  },
  {
   "cell_type": "code",
   "execution_count": 3,
   "metadata": {},
   "outputs": [
    {
     "data": {
      "text/plain": [
       "dict"
      ]
     },
     "execution_count": 3,
     "metadata": {},
     "output_type": "execute_result"
    }
   ],
   "source": [
    "type(metadata)"
   ]
  },
  {
   "attachments": {},
   "cell_type": "markdown",
   "metadata": {},
   "source": [
    "La información obtenida del JSON corresponde a la metadata de la encuesta de la ENIGH, a continuación se explica un poco del abstract sobre lo que consiste este estudiom\n"
   ]
  },
  {
   "cell_type": "code",
   "execution_count": 4,
   "metadata": {},
   "outputs": [
    {
     "name": "stdout",
     "output_type": "stream",
     "text": [
      "El objetivo de la ENIGH es proporcionar un panorama estadí­stico del comportamiento de los ingresos y gastos de los hogares en cuanto a su monto, procedencia y distribución; adicionalmente ofrece información sobre las caracterí­sticas ocupacionales y sociodemográficas de los integrantes del hogar, así­ como las caracterí­sticas de la infraestructura de la vivienda y el equipamiento del hogar. \n",
      "\n",
      "Desde 1984, cuando el INEGI comenzó a levantar la encuesta, hasta el dí­a de hoy, se han venido desarrollando tanto nuevas metodologí­as, emitido recomendaciones internacionales y documentado buenas prácticas para la generación de información de ingresos y gastos de los hogares por medio de encuestas.\n",
      "\n",
      "En este periodo se han realizado adiciones en la temá¡tica de la encuesta, actualizaciones metodológicas e innovaciones en los procesos, para obtener resultados que reflejen la realidad, tomando en cuenta las recomendaciones internacionales y los requerimientos de información de los diferentes usuarios. Cuando la adopción de las recomendaciones y buenas prácticas implicaban un rompimiento en la comparabilidad de los resultados, se prefirió mantener la comparabilidad histórica.\n",
      "\n",
      "A partir de 2008 el INEGI decidió publicar los resultados de la ENIGH, cuyas variables han sido construidas y presentadas conforme a las recomendaciones de la ONU, especí­ficamente, las emitidas en la 17a. Conferencia Internacional de Estadí­sticos del Trabajo y en el Reporte del Grupo de Canberra. Esta nueva construcción, además, es la que se utiliza en la base de datos del Módulo de Condiciones Socioecómicas de la ENIGH, que es la fuente de información para la medición multidimensional de la pobreza que realiza el Consejo Nacional para la Evaluación de la Polí­tica de Desarrollo Social (CONEVAL). \n",
      "\n",
      "Ahora bien, además de mencionar y analizar las recomendaciones internacionales que se pusieron en práctica en la ENIGH 2020, en el presente documento también se relatan los antecedentes de la ENIGH, cómo surgió y los cambios significativos que ha tenido desde entonces; se mencionan los objetivos de la encuesta y los instrumentos de captación que utiliza; asimismo, como eje principal, está la descripción del ingreso y del gasto, sus fuentes, su correlación e implicaciones, esto, como principales indicadores del bienestar del hogar; en otro capítulo se listan los principales usuarios de la información de la encuesta; y por último, se presentan los esquemas de los temas, categorías y variables empleados en la ENIGH 2020.\n",
      "Periodicidad: A partir de 1992 se realiza con una periodicidad bienal (cada dos años) con excepción del año 2005 en que se realizó un levantamiento extraordinario. \n",
      "\n",
      "Población objetivo: La constituyen los hogares de nacionales o extranjeros, que residen habitualmente en viviendas particulares dentro del territorio nacional. \n",
      "\n",
      "Unidad de Selección: Vivienda particular. Las viviendas se eligen mediante un minucioso proceso estadístico que garantiza que los resultados obtenidos a partir de sólo una parte de la población (muestra), se pueda generalizar hacia el total. \n",
      "\n",
      "Marco Muestral: El marco de muestreo utilizado es el marco de propósitos múltiples del INEGI, está constituido con la información demográfica y cartográfica obtenida a partir del levantamiento del Censo de Población y Vivienda 2010.\n",
      "Tamaño efectivo de la muestra: 105 483 viviendas.\n",
      "Unidad de observación: El hogar. \n",
      "\n",
      "Unidad de análisis: El hogar, la vivienda y los integrantes del hogar.\n",
      "\n",
      "Cobertura temática: \n",
      "\n",
      "Características de la vivienda. \n",
      "Residentes e identificación de hogares en la vivienda. \n",
      "Características sociodemográficas de los residentes de la vivienda. \n",
      "Equipamiento del hogar, servicios. \n",
      "Condición de actividad y características ocupacionales de los integrantes del hogar de 12 y más años. \n",
      "Ingreso corriente total (monetario y no monetario) de los hogares. \n",
      "Percepciones financieras y de capital de los hogares y sus integrantes. \n",
      "Gasto corriente monetario de los hogares. \n",
      "Erogaciones financieras y de capital de los hogares. \n",
      "\n",
      "Los diferentes conceptos de la ENIGH están regidos por recomendaciones acordadas en convenciones internacionales por ejemplo: \n",
      "\n",
      "Las resoluciones e informes de las 18 Conferencias Internacionales sobre estadísticas del trabajo, de la Organización Internacional del Trabajo (OIT). \n",
      "\n",
      "El reporte final y recomendaciones del Grupo de Canberra, grupo de expertos en las \"Estadísticas de Ingreso de los Hogares\". \n",
      "\n",
      "Manual de Encuestas sobre Hogares. Departamento de Asuntos Económicos y Sociales Internacionales, Oficina de Estadística. Naciones Unidas, Nueva York, 1987. \n",
      "\n",
      "Así mismo están articuladas con el Sistema de Cuentas Nacionales y con las Encuestas de Hogar que levanta el INEGI. \n",
      "\n",
      "Tamaño de la muestra: A nivel nacional son, incluyendo la decena uno, 93 186 viviendas particulares. \n",
      "\n",
      "Carga de trabajo: De acuerdo a la minuciosidad en el registro de la información en este proyecto se ha definido para cada entrevistador una carga de seis entrevistas en viviendas particulares por decena. El número de entrevistas puede disminuir o aumentar de acuerdo con varios factores: no respuesta, recuperación de la no respuesta u hogares adicionales.\n"
     ]
    }
   ],
   "source": [
    "print(metadata['study_desc']['study_info']['abstract'],)"
   ]
  },
  {
   "attachments": {},
   "cell_type": "markdown",
   "metadata": {},
   "source": [
    "Algunas estructuras de diccionarios (y JSONs) son compatibles en el constructor de pandas.DataFrame, por ejemplo, la siguiente lista de diccionarios con la estructura\n",
    "list(dict(**keys**=_'values'_)) genera el DataFrame de columnas **keys**, y de valores _'values'_\n"
   ]
  },
  {
   "cell_type": "code",
   "execution_count": 5,
   "metadata": {},
   "outputs": [
    {
     "data": {
      "text/plain": [
       "[{'name': '', 'abbreviation': 'INEGI', 'affiliation': '', 'role': ''},\n",
       " {'name': 'Dirección General de Estadísticas Sociodemográficas',\n",
       "  'abbreviation': 'DGES',\n",
       "  'affiliation': '',\n",
       "  'role': ''},\n",
       " {'name': 'Dirección General Adjunta de Encuestas Sociodemográficas',\n",
       "  'abbreviation': 'DGAES',\n",
       "  'affiliation': '',\n",
       "  'role': ''},\n",
       " {'name': 'Dirección de Encuestas Regulares en Hogares',\n",
       "  'abbreviation': '',\n",
       "  'affiliation': '',\n",
       "  'role': ''},\n",
       " {'name': 'Subdirección de Generación de Estadísticas de Encuestas de Ingresos y Gastos',\n",
       "  'abbreviation': '',\n",
       "  'affiliation': '',\n",
       "  'role': 'Documentación de la encuesta y revisión del metadato.'}]"
      ]
     },
     "execution_count": 5,
     "metadata": {},
     "output_type": "execute_result"
    }
   ],
   "source": [
    "metadata['doc_desc']['producers']"
   ]
  },
  {
   "cell_type": "code",
   "execution_count": 6,
   "metadata": {},
   "outputs": [
    {
     "data": {
      "text/html": [
       "<div>\n",
       "<style scoped>\n",
       "    .dataframe tbody tr th:only-of-type {\n",
       "        vertical-align: middle;\n",
       "    }\n",
       "\n",
       "    .dataframe tbody tr th {\n",
       "        vertical-align: top;\n",
       "    }\n",
       "\n",
       "    .dataframe thead th {\n",
       "        text-align: right;\n",
       "    }\n",
       "</style>\n",
       "<table border=\"1\" class=\"dataframe\">\n",
       "  <thead>\n",
       "    <tr style=\"text-align: right;\">\n",
       "      <th></th>\n",
       "      <th>name</th>\n",
       "      <th>abbreviation</th>\n",
       "      <th>affiliation</th>\n",
       "      <th>role</th>\n",
       "    </tr>\n",
       "  </thead>\n",
       "  <tbody>\n",
       "    <tr>\n",
       "      <th>0</th>\n",
       "      <td></td>\n",
       "      <td>INEGI</td>\n",
       "      <td></td>\n",
       "      <td></td>\n",
       "    </tr>\n",
       "    <tr>\n",
       "      <th>1</th>\n",
       "      <td>Dirección General de Estadísticas Sociodemográ...</td>\n",
       "      <td>DGES</td>\n",
       "      <td></td>\n",
       "      <td></td>\n",
       "    </tr>\n",
       "    <tr>\n",
       "      <th>2</th>\n",
       "      <td>Dirección General Adjunta de Encuestas Sociode...</td>\n",
       "      <td>DGAES</td>\n",
       "      <td></td>\n",
       "      <td></td>\n",
       "    </tr>\n",
       "    <tr>\n",
       "      <th>3</th>\n",
       "      <td>Dirección de Encuestas Regulares en Hogares</td>\n",
       "      <td></td>\n",
       "      <td></td>\n",
       "      <td></td>\n",
       "    </tr>\n",
       "    <tr>\n",
       "      <th>4</th>\n",
       "      <td>Subdirección de Generación de Estadísticas de ...</td>\n",
       "      <td></td>\n",
       "      <td></td>\n",
       "      <td>Documentación de la encuesta y revisión del me...</td>\n",
       "    </tr>\n",
       "  </tbody>\n",
       "</table>\n",
       "</div>"
      ],
      "text/plain": [
       "                                                name abbreviation affiliation  \\\n",
       "0                                                           INEGI               \n",
       "1  Dirección General de Estadísticas Sociodemográ...         DGES               \n",
       "2  Dirección General Adjunta de Encuestas Sociode...        DGAES               \n",
       "3        Dirección de Encuestas Regulares en Hogares                            \n",
       "4  Subdirección de Generación de Estadísticas de ...                            \n",
       "\n",
       "                                                role  \n",
       "0                                                     \n",
       "1                                                     \n",
       "2                                                     \n",
       "3                                                     \n",
       "4  Documentación de la encuesta y revisión del me...  "
      ]
     },
     "execution_count": 6,
     "metadata": {},
     "output_type": "execute_result"
    }
   ],
   "source": [
    "pd.DataFrame(metadata['doc_desc']['producers'])"
   ]
  },
  {
   "attachments": {},
   "cell_type": "markdown",
   "metadata": {},
   "source": [
    "## 1.0 Limpieza de datos\n",
    "\n",
    "La información que se presenta a continuación es una muestra de los folios totales de la ENIG, con motivo de que no existan complicaciones de saturar la memoria RAM de nuestras maquinas, el primer paso de esta prueba consiste en limpiar la información haciendo uso de funciones, realiza las intrucciones expuestas en los apartados\n",
    "\n",
    "> x) apartado\n"
   ]
  },
  {
   "cell_type": "code",
   "execution_count": 113,
   "metadata": {},
   "outputs": [
    {
     "name": "stderr",
     "output_type": "stream",
     "text": [
      "C:\\Users\\francisco.garcia\\AppData\\Local\\Temp\\ipykernel_13352\\1588184362.py:1: DtypeWarning: Columns (13,14,16,20,21,22,23,24,25) have mixed types. Specify dtype option on import or set low_memory=False.\n",
      "  df = pd.read_csv('./gastoshogar.txt'\n"
     ]
    }
   ],
   "source": [
    "df = pd.read_csv('./gastoshogar.txt'\n",
    "                 ,dtype={x:'str' for x in ['clave', 'forma_pag1', 'forma_pag2', 'forma_pag3', 'frecuencia', 'inst_1', 'inst_2', 'lugar_comp', 'orga_inst', 'tipo_gasto', 'mes_dia', 'fecha_adqu', 'fecha_pago', 'folioviv', 'foliohog']}\n",
    "                 ,na_values=['0000','00','0'] \n",
    "                 ,quotechar=\"'\"\n",
    "                 )"
   ]
  },
  {
   "cell_type": "code",
   "execution_count": 114,
   "metadata": {},
   "outputs": [
    {
     "data": {
      "text/html": [
       "<div>\n",
       "<style scoped>\n",
       "    .dataframe tbody tr th:only-of-type {\n",
       "        vertical-align: middle;\n",
       "    }\n",
       "\n",
       "    .dataframe tbody tr th {\n",
       "        vertical-align: top;\n",
       "    }\n",
       "\n",
       "    .dataframe thead th {\n",
       "        text-align: right;\n",
       "    }\n",
       "</style>\n",
       "<table border=\"1\" class=\"dataframe\">\n",
       "  <thead>\n",
       "    <tr style=\"text-align: right;\">\n",
       "      <th></th>\n",
       "      <th>folioviv</th>\n",
       "      <th>foliohog</th>\n",
       "      <th>clave</th>\n",
       "      <th>tipo_gasto</th>\n",
       "      <th>mes_dia</th>\n",
       "      <th>forma_pag1</th>\n",
       "      <th>forma_pag2</th>\n",
       "      <th>forma_pag3</th>\n",
       "      <th>lugar_comp</th>\n",
       "      <th>orga_inst</th>\n",
       "      <th>frecuencia</th>\n",
       "      <th>fecha_adqu</th>\n",
       "      <th>fecha_pago</th>\n",
       "      <th>cantidad</th>\n",
       "      <th>gasto</th>\n",
       "      <th>pago_mp</th>\n",
       "      <th>costo</th>\n",
       "      <th>inmujer</th>\n",
       "      <th>inst_1</th>\n",
       "      <th>inst_2</th>\n",
       "      <th>num_meses</th>\n",
       "      <th>num_pagos</th>\n",
       "      <th>ultim_pago</th>\n",
       "      <th>gasto_tri</th>\n",
       "      <th>gasto_nm</th>\n",
       "      <th>gas_nm_tri</th>\n",
       "      <th>imujer_tri</th>\n",
       "    </tr>\n",
       "  </thead>\n",
       "  <tbody>\n",
       "    <tr>\n",
       "      <th>0</th>\n",
       "      <td>0100013606</td>\n",
       "      <td>1</td>\n",
       "      <td>C001</td>\n",
       "      <td>G1</td>\n",
       "      <td>NaN</td>\n",
       "      <td>01</td>\n",
       "      <td>NaN</td>\n",
       "      <td>NaN</td>\n",
       "      <td>06</td>\n",
       "      <td>NaN</td>\n",
       "      <td>NaN</td>\n",
       "      <td>NaN</td>\n",
       "      <td>NaN</td>\n",
       "      <td></td>\n",
       "      <td>100</td>\n",
       "      <td></td>\n",
       "      <td></td>\n",
       "      <td></td>\n",
       "      <td></td>\n",
       "      <td></td>\n",
       "      <td></td>\n",
       "      <td></td>\n",
       "      <td></td>\n",
       "      <td>300.0</td>\n",
       "      <td></td>\n",
       "      <td></td>\n",
       "      <td></td>\n",
       "    </tr>\n",
       "    <tr>\n",
       "      <th>1</th>\n",
       "      <td>0100013606</td>\n",
       "      <td>1</td>\n",
       "      <td>C003</td>\n",
       "      <td>G1</td>\n",
       "      <td>NaN</td>\n",
       "      <td>01</td>\n",
       "      <td>NaN</td>\n",
       "      <td>NaN</td>\n",
       "      <td>06</td>\n",
       "      <td>NaN</td>\n",
       "      <td>NaN</td>\n",
       "      <td>NaN</td>\n",
       "      <td>NaN</td>\n",
       "      <td></td>\n",
       "      <td>40</td>\n",
       "      <td></td>\n",
       "      <td></td>\n",
       "      <td></td>\n",
       "      <td></td>\n",
       "      <td></td>\n",
       "      <td></td>\n",
       "      <td></td>\n",
       "      <td></td>\n",
       "      <td>120.0</td>\n",
       "      <td></td>\n",
       "      <td></td>\n",
       "      <td></td>\n",
       "    </tr>\n",
       "    <tr>\n",
       "      <th>2</th>\n",
       "      <td>0100013606</td>\n",
       "      <td>1</td>\n",
       "      <td>C004</td>\n",
       "      <td>G1</td>\n",
       "      <td>NaN</td>\n",
       "      <td>01</td>\n",
       "      <td>NaN</td>\n",
       "      <td>NaN</td>\n",
       "      <td>06</td>\n",
       "      <td>NaN</td>\n",
       "      <td>NaN</td>\n",
       "      <td>NaN</td>\n",
       "      <td>NaN</td>\n",
       "      <td></td>\n",
       "      <td>44</td>\n",
       "      <td></td>\n",
       "      <td></td>\n",
       "      <td></td>\n",
       "      <td></td>\n",
       "      <td></td>\n",
       "      <td></td>\n",
       "      <td></td>\n",
       "      <td></td>\n",
       "      <td>132.0</td>\n",
       "      <td></td>\n",
       "      <td></td>\n",
       "      <td></td>\n",
       "    </tr>\n",
       "    <tr>\n",
       "      <th>3</th>\n",
       "      <td>0100013606</td>\n",
       "      <td>1</td>\n",
       "      <td>C005</td>\n",
       "      <td>G1</td>\n",
       "      <td>NaN</td>\n",
       "      <td>01</td>\n",
       "      <td>NaN</td>\n",
       "      <td>NaN</td>\n",
       "      <td>06</td>\n",
       "      <td>NaN</td>\n",
       "      <td>NaN</td>\n",
       "      <td>NaN</td>\n",
       "      <td>NaN</td>\n",
       "      <td></td>\n",
       "      <td>46</td>\n",
       "      <td></td>\n",
       "      <td></td>\n",
       "      <td></td>\n",
       "      <td></td>\n",
       "      <td></td>\n",
       "      <td></td>\n",
       "      <td></td>\n",
       "      <td></td>\n",
       "      <td>138.0</td>\n",
       "      <td></td>\n",
       "      <td></td>\n",
       "      <td></td>\n",
       "    </tr>\n",
       "    <tr>\n",
       "      <th>4</th>\n",
       "      <td>0100013606</td>\n",
       "      <td>1</td>\n",
       "      <td>C006</td>\n",
       "      <td>G1</td>\n",
       "      <td>NaN</td>\n",
       "      <td>01</td>\n",
       "      <td>NaN</td>\n",
       "      <td>NaN</td>\n",
       "      <td>06</td>\n",
       "      <td>NaN</td>\n",
       "      <td>NaN</td>\n",
       "      <td>NaN</td>\n",
       "      <td>NaN</td>\n",
       "      <td></td>\n",
       "      <td>32</td>\n",
       "      <td></td>\n",
       "      <td></td>\n",
       "      <td></td>\n",
       "      <td></td>\n",
       "      <td></td>\n",
       "      <td></td>\n",
       "      <td></td>\n",
       "      <td></td>\n",
       "      <td>96.0</td>\n",
       "      <td></td>\n",
       "      <td></td>\n",
       "      <td></td>\n",
       "    </tr>\n",
       "  </tbody>\n",
       "</table>\n",
       "</div>"
      ],
      "text/plain": [
       "     folioviv foliohog clave tipo_gasto mes_dia forma_pag1 forma_pag2  \\\n",
       "0  0100013606        1  C001         G1     NaN         01        NaN   \n",
       "1  0100013606        1  C003         G1     NaN         01        NaN   \n",
       "2  0100013606        1  C004         G1     NaN         01        NaN   \n",
       "3  0100013606        1  C005         G1     NaN         01        NaN   \n",
       "4  0100013606        1  C006         G1     NaN         01        NaN   \n",
       "\n",
       "  forma_pag3 lugar_comp orga_inst frecuencia fecha_adqu fecha_pago cantidad  \\\n",
       "0        NaN         06       NaN        NaN        NaN        NaN            \n",
       "1        NaN         06       NaN        NaN        NaN        NaN            \n",
       "2        NaN         06       NaN        NaN        NaN        NaN            \n",
       "3        NaN         06       NaN        NaN        NaN        NaN            \n",
       "4        NaN         06       NaN        NaN        NaN        NaN            \n",
       "\n",
       "  gasto pago_mp costo inmujer inst_1 inst_2 num_meses num_pagos ultim_pago  \\\n",
       "0   100                                                                      \n",
       "1    40                                                                      \n",
       "2    44                                                                      \n",
       "3    46                                                                      \n",
       "4    32                                                                      \n",
       "\n",
       "  gasto_tri gasto_nm gas_nm_tri imujer_tri  \n",
       "0     300.0                                 \n",
       "1     120.0                                 \n",
       "2     132.0                                 \n",
       "3     138.0                                 \n",
       "4      96.0                                 "
      ]
     },
     "execution_count": 114,
     "metadata": {},
     "output_type": "execute_result"
    }
   ],
   "source": [
    "df.head()"
   ]
  },
  {
   "cell_type": "code",
   "execution_count": 115,
   "metadata": {},
   "outputs": [
    {
     "name": "stdout",
     "output_type": "stream",
     "text": [
      "<class 'pandas.core.frame.DataFrame'>\n",
      "RangeIndex: 1409409 entries, 0 to 1409408\n",
      "Data columns (total 27 columns):\n",
      " #   Column      Non-Null Count    Dtype \n",
      "---  ------      --------------    ----- \n",
      " 0   folioviv    1409409 non-null  object\n",
      " 1   foliohog    1409409 non-null  object\n",
      " 2   clave       1409409 non-null  object\n",
      " 3   tipo_gasto  1409409 non-null  object\n",
      " 4   mes_dia     705526 non-null   object\n",
      " 5   forma_pag1  1261869 non-null  object\n",
      " 6   forma_pag2  1310 non-null     object\n",
      " 7   forma_pag3  23 non-null       object\n",
      " 8   lugar_comp  1135288 non-null  object\n",
      " 9   orga_inst   9660 non-null     object\n",
      " 10  frecuencia  80555 non-null    object\n",
      " 11  fecha_adqu  5311 non-null     object\n",
      " 12  fecha_pago  5311 non-null     object\n",
      " 13  cantidad    1409409 non-null  object\n",
      " 14  gasto       1408685 non-null  object\n",
      " 15  pago_mp     1341741 non-null  object\n",
      " 16  costo       1409409 non-null  object\n",
      " 17  inmujer     1357647 non-null  object\n",
      " 18  inst_1      1409409 non-null  object\n",
      " 19  inst_2      1409409 non-null  object\n",
      " 20  num_meses   1409409 non-null  object\n",
      " 21  num_pagos   1409409 non-null  object\n",
      " 22  ultim_pago  1409409 non-null  object\n",
      " 23  gasto_tri   1408685 non-null  object\n",
      " 24  gasto_nm    1409409 non-null  object\n",
      " 25  gas_nm_tri  1409409 non-null  object\n",
      " 26  imujer_tri  1357647 non-null  object\n",
      "dtypes: object(27)\n",
      "memory usage: 290.3+ MB\n"
     ]
    }
   ],
   "source": [
    "df.info()"
   ]
  },
  {
   "attachments": {},
   "cell_type": "markdown",
   "metadata": {},
   "source": [
    "> 1.1) Valores numéricos. Crea una función que reciba un DataFrame y una lista de columnas que deban ser convertidas de tipo de dato str a float, la función debe devolver el dataframe con todas sus columnas, cambiando el tipo de dato de las seleccionadas **(1 punto)**\n"
   ]
  },
  {
   "cell_type": "code",
   "execution_count": 116,
   "metadata": {},
   "outputs": [],
   "source": [
    "# El siguiente es un ejemplo de la respuesta esperada, sin embargo, para conseguir el punto debe encontrar el error en la función\n",
    "\n",
    "def valores_numericos(data:pd.DataFrame, columnas:list):\n",
    "    \"\"\"Recibe un DataFrame y un listado de columnas y transforma el tipo de dato de estas ultimas a flotante\"\"\"\n",
    "    data_out = data.copy() #recuerda hacer un copy de la tabla a manipular en la función para evitar problemas de relación\n",
    "    for columna in columnas:\n",
    "        data_out[columna] = pd.to_numeric(data_out[columna],errors='coerce').astype(float)\n",
    "    return data_out"
   ]
  },
  {
   "attachments": {},
   "cell_type": "markdown",
   "metadata": {},
   "source": [
    "> 1.2) Columnas nulas. Crea una función que reciba un DataFrame y un cutoff para determinar el porcentaje mínimo de valores no nulos en la tabla para cada columna, elimina las columnas que tengan más de dicho porcentaje nulo **(1 punto)**\n"
   ]
  },
  {
   "cell_type": "code",
   "execution_count": 117,
   "metadata": {},
   "outputs": [],
   "source": [
    "def no_nulo(data:pd.DataFrame, min_pct_no_nulo:float=0.60):\n",
    "    data_out = data.copy() #recuerda hacer un copy de la tabla a manipular en la función para evitar problemas de relación\n",
    "    drop = data.isna().sum()/data.shape[0]\n",
    "    drop = drop[drop>min_pct_no_nulo].index\n",
    "    data_out.drop(columns=drop,inplace=True)\n",
    "    return data_out"
   ]
  },
  {
   "attachments": {},
   "cell_type": "markdown",
   "metadata": {},
   "source": [
    "> 1.3) Columnas unarias. Crea una función que reciba un DataFrame, una lista de columnas y un cutoff. el uso de esta función determinara que columnas de variables discretas tienen un \"único\" valor, si el valor más frecuente se repite más del porcentaje determinado en el cutoff, la columna se remueve del DataFrame resultante **(1 punto)**\n"
   ]
  },
  {
   "cell_type": "code",
   "execution_count": 118,
   "metadata": {},
   "outputs": [],
   "source": [
    "def no_unarias(data:pd.DataFrame, columnas:list, max_pct_repeticion:float=0.90):\n",
    "    data_out = data.copy() #recuerda hacer un copy de la tabla a manipular en la función para evitar problemas de relación\n",
    "    for col in columnas:\n",
    "        unaria = data[col].value_counts(True,dropna=False).reset_index().dropna().values[0][1]\n",
    "        if unaria > max_pct_repeticion:\n",
    "            data_out.drop(columns=[col],inplace=True)\n",
    "    return data_out"
   ]
  },
  {
   "attachments": {},
   "cell_type": "markdown",
   "metadata": {},
   "source": [
    "> 1.4) Limpieza de datos. Crea una función que le aplique las funciones de limpieza al DataFrame en el orden de: valores_numericos, no_nulo, no_unarias, por lo que los parametros son las usadas en la funciones previas **(1 punto)**\n"
   ]
  },
  {
   "cell_type": "code",
   "execution_count": 119,
   "metadata": {},
   "outputs": [],
   "source": [
    "def limpieza_de_datos(data:pd.DataFrame, columnas_numericas:list, columnas_no_numericas:list, min_pct_no_nulo:float=0.60, max_pct_repeticion:float=0.90):\n",
    "    data_out = data.copy() #recuerda hacer un copy de la tabla a manipular en la función para evitar problemas de relación\n",
    "    data_out = valores_numericos(data_out,columnas_numericas)\n",
    "    data_out = no_nulo(data_out,min_pct_no_nulo)\n",
    "    columnas_no_numericas = [x for x in columnas_no_numericas if x in data_out.columns]\n",
    "    data_out = no_unarias(data_out,columnas_no_numericas,max_pct_repeticion)\n",
    "    return data_out\n",
    "\n",
    "# Hint: algunas columnas no numericas serán eliminadas por la función de no_nulo, por lo que al querer borrarlas en no_unarias puede producir que no encuentre la columna"
   ]
  },
  {
   "cell_type": "code",
   "execution_count": 120,
   "metadata": {},
   "outputs": [
    {
     "data": {
      "text/html": [
       "<div>\n",
       "<style scoped>\n",
       "    .dataframe tbody tr th:only-of-type {\n",
       "        vertical-align: middle;\n",
       "    }\n",
       "\n",
       "    .dataframe tbody tr th {\n",
       "        vertical-align: top;\n",
       "    }\n",
       "\n",
       "    .dataframe thead th {\n",
       "        text-align: right;\n",
       "    }\n",
       "</style>\n",
       "<table border=\"1\" class=\"dataframe\">\n",
       "  <thead>\n",
       "    <tr style=\"text-align: right;\">\n",
       "      <th></th>\n",
       "      <th>folioviv</th>\n",
       "      <th>foliohog</th>\n",
       "      <th>clave</th>\n",
       "      <th>tipo_gasto</th>\n",
       "      <th>mes_dia</th>\n",
       "      <th>forma_pag1</th>\n",
       "      <th>forma_pag2</th>\n",
       "      <th>forma_pag3</th>\n",
       "      <th>lugar_comp</th>\n",
       "      <th>orga_inst</th>\n",
       "      <th>frecuencia</th>\n",
       "      <th>fecha_adqu</th>\n",
       "      <th>fecha_pago</th>\n",
       "      <th>cantidad</th>\n",
       "      <th>gasto</th>\n",
       "      <th>pago_mp</th>\n",
       "      <th>costo</th>\n",
       "      <th>inmujer</th>\n",
       "      <th>inst_1</th>\n",
       "      <th>inst_2</th>\n",
       "      <th>num_meses</th>\n",
       "      <th>num_pagos</th>\n",
       "      <th>ultim_pago</th>\n",
       "      <th>gasto_tri</th>\n",
       "      <th>gasto_nm</th>\n",
       "      <th>gas_nm_tri</th>\n",
       "      <th>imujer_tri</th>\n",
       "    </tr>\n",
       "  </thead>\n",
       "  <tbody>\n",
       "    <tr>\n",
       "      <th>0</th>\n",
       "      <td>0100013606</td>\n",
       "      <td>1</td>\n",
       "      <td>C001</td>\n",
       "      <td>G1</td>\n",
       "      <td>NaN</td>\n",
       "      <td>01</td>\n",
       "      <td>NaN</td>\n",
       "      <td>NaN</td>\n",
       "      <td>06</td>\n",
       "      <td>NaN</td>\n",
       "      <td>NaN</td>\n",
       "      <td>NaN</td>\n",
       "      <td>NaN</td>\n",
       "      <td></td>\n",
       "      <td>100</td>\n",
       "      <td></td>\n",
       "      <td></td>\n",
       "      <td></td>\n",
       "      <td></td>\n",
       "      <td></td>\n",
       "      <td></td>\n",
       "      <td></td>\n",
       "      <td></td>\n",
       "      <td>300.0</td>\n",
       "      <td></td>\n",
       "      <td></td>\n",
       "      <td></td>\n",
       "    </tr>\n",
       "    <tr>\n",
       "      <th>1</th>\n",
       "      <td>0100013606</td>\n",
       "      <td>1</td>\n",
       "      <td>C003</td>\n",
       "      <td>G1</td>\n",
       "      <td>NaN</td>\n",
       "      <td>01</td>\n",
       "      <td>NaN</td>\n",
       "      <td>NaN</td>\n",
       "      <td>06</td>\n",
       "      <td>NaN</td>\n",
       "      <td>NaN</td>\n",
       "      <td>NaN</td>\n",
       "      <td>NaN</td>\n",
       "      <td></td>\n",
       "      <td>40</td>\n",
       "      <td></td>\n",
       "      <td></td>\n",
       "      <td></td>\n",
       "      <td></td>\n",
       "      <td></td>\n",
       "      <td></td>\n",
       "      <td></td>\n",
       "      <td></td>\n",
       "      <td>120.0</td>\n",
       "      <td></td>\n",
       "      <td></td>\n",
       "      <td></td>\n",
       "    </tr>\n",
       "    <tr>\n",
       "      <th>2</th>\n",
       "      <td>0100013606</td>\n",
       "      <td>1</td>\n",
       "      <td>C004</td>\n",
       "      <td>G1</td>\n",
       "      <td>NaN</td>\n",
       "      <td>01</td>\n",
       "      <td>NaN</td>\n",
       "      <td>NaN</td>\n",
       "      <td>06</td>\n",
       "      <td>NaN</td>\n",
       "      <td>NaN</td>\n",
       "      <td>NaN</td>\n",
       "      <td>NaN</td>\n",
       "      <td></td>\n",
       "      <td>44</td>\n",
       "      <td></td>\n",
       "      <td></td>\n",
       "      <td></td>\n",
       "      <td></td>\n",
       "      <td></td>\n",
       "      <td></td>\n",
       "      <td></td>\n",
       "      <td></td>\n",
       "      <td>132.0</td>\n",
       "      <td></td>\n",
       "      <td></td>\n",
       "      <td></td>\n",
       "    </tr>\n",
       "    <tr>\n",
       "      <th>3</th>\n",
       "      <td>0100013606</td>\n",
       "      <td>1</td>\n",
       "      <td>C005</td>\n",
       "      <td>G1</td>\n",
       "      <td>NaN</td>\n",
       "      <td>01</td>\n",
       "      <td>NaN</td>\n",
       "      <td>NaN</td>\n",
       "      <td>06</td>\n",
       "      <td>NaN</td>\n",
       "      <td>NaN</td>\n",
       "      <td>NaN</td>\n",
       "      <td>NaN</td>\n",
       "      <td></td>\n",
       "      <td>46</td>\n",
       "      <td></td>\n",
       "      <td></td>\n",
       "      <td></td>\n",
       "      <td></td>\n",
       "      <td></td>\n",
       "      <td></td>\n",
       "      <td></td>\n",
       "      <td></td>\n",
       "      <td>138.0</td>\n",
       "      <td></td>\n",
       "      <td></td>\n",
       "      <td></td>\n",
       "    </tr>\n",
       "    <tr>\n",
       "      <th>4</th>\n",
       "      <td>0100013606</td>\n",
       "      <td>1</td>\n",
       "      <td>C006</td>\n",
       "      <td>G1</td>\n",
       "      <td>NaN</td>\n",
       "      <td>01</td>\n",
       "      <td>NaN</td>\n",
       "      <td>NaN</td>\n",
       "      <td>06</td>\n",
       "      <td>NaN</td>\n",
       "      <td>NaN</td>\n",
       "      <td>NaN</td>\n",
       "      <td>NaN</td>\n",
       "      <td></td>\n",
       "      <td>32</td>\n",
       "      <td></td>\n",
       "      <td></td>\n",
       "      <td></td>\n",
       "      <td></td>\n",
       "      <td></td>\n",
       "      <td></td>\n",
       "      <td></td>\n",
       "      <td></td>\n",
       "      <td>96.0</td>\n",
       "      <td></td>\n",
       "      <td></td>\n",
       "      <td></td>\n",
       "    </tr>\n",
       "  </tbody>\n",
       "</table>\n",
       "</div>"
      ],
      "text/plain": [
       "     folioviv foliohog clave tipo_gasto mes_dia forma_pag1 forma_pag2  \\\n",
       "0  0100013606        1  C001         G1     NaN         01        NaN   \n",
       "1  0100013606        1  C003         G1     NaN         01        NaN   \n",
       "2  0100013606        1  C004         G1     NaN         01        NaN   \n",
       "3  0100013606        1  C005         G1     NaN         01        NaN   \n",
       "4  0100013606        1  C006         G1     NaN         01        NaN   \n",
       "\n",
       "  forma_pag3 lugar_comp orga_inst frecuencia fecha_adqu fecha_pago cantidad  \\\n",
       "0        NaN         06       NaN        NaN        NaN        NaN            \n",
       "1        NaN         06       NaN        NaN        NaN        NaN            \n",
       "2        NaN         06       NaN        NaN        NaN        NaN            \n",
       "3        NaN         06       NaN        NaN        NaN        NaN            \n",
       "4        NaN         06       NaN        NaN        NaN        NaN            \n",
       "\n",
       "  gasto pago_mp costo inmujer inst_1 inst_2 num_meses num_pagos ultim_pago  \\\n",
       "0   100                                                                      \n",
       "1    40                                                                      \n",
       "2    44                                                                      \n",
       "3    46                                                                      \n",
       "4    32                                                                      \n",
       "\n",
       "  gasto_tri gasto_nm gas_nm_tri imujer_tri  \n",
       "0     300.0                                 \n",
       "1     120.0                                 \n",
       "2     132.0                                 \n",
       "3     138.0                                 \n",
       "4      96.0                                 "
      ]
     },
     "execution_count": 120,
     "metadata": {},
     "output_type": "execute_result"
    }
   ],
   "source": [
    "df.head()"
   ]
  },
  {
   "cell_type": "code",
   "execution_count": 121,
   "metadata": {},
   "outputs": [],
   "source": [
    "columnas_numericas = ['cantidad', 'gasto', 'pago_mp', 'costo', 'inmujer', 'num_meses', 'num_pagos', 'gasto_tri', 'gasto_nm', 'gas_nm_tri', 'imujer_tri']\n",
    "columnas_no_numericas = ['clave', 'tipo_gasto', 'mes_dia', 'forma_pag1','forma_pag2', 'forma_pag3', 'lugar_comp', 'orga_inst', 'frecuencia','fecha_adqu', 'fecha_pago', 'inst_1', 'inst_2', 'ultim_pago']"
   ]
  },
  {
   "cell_type": "code",
   "execution_count": 122,
   "metadata": {},
   "outputs": [
    {
     "data": {
      "text/html": [
       "<div>\n",
       "<style scoped>\n",
       "    .dataframe tbody tr th:only-of-type {\n",
       "        vertical-align: middle;\n",
       "    }\n",
       "\n",
       "    .dataframe tbody tr th {\n",
       "        vertical-align: top;\n",
       "    }\n",
       "\n",
       "    .dataframe thead th {\n",
       "        text-align: right;\n",
       "    }\n",
       "</style>\n",
       "<table border=\"1\" class=\"dataframe\">\n",
       "  <thead>\n",
       "    <tr style=\"text-align: right;\">\n",
       "      <th></th>\n",
       "      <th>folioviv</th>\n",
       "      <th>foliohog</th>\n",
       "      <th>clave</th>\n",
       "      <th>mes_dia</th>\n",
       "      <th>forma_pag1</th>\n",
       "      <th>lugar_comp</th>\n",
       "      <th>cantidad</th>\n",
       "      <th>gasto</th>\n",
       "      <th>gasto_tri</th>\n",
       "    </tr>\n",
       "  </thead>\n",
       "  <tbody>\n",
       "    <tr>\n",
       "      <th>0</th>\n",
       "      <td>0100013606</td>\n",
       "      <td>1</td>\n",
       "      <td>C001</td>\n",
       "      <td>NaN</td>\n",
       "      <td>01</td>\n",
       "      <td>06</td>\n",
       "      <td>NaN</td>\n",
       "      <td>100.0</td>\n",
       "      <td>300.0</td>\n",
       "    </tr>\n",
       "    <tr>\n",
       "      <th>1</th>\n",
       "      <td>0100013606</td>\n",
       "      <td>1</td>\n",
       "      <td>C003</td>\n",
       "      <td>NaN</td>\n",
       "      <td>01</td>\n",
       "      <td>06</td>\n",
       "      <td>NaN</td>\n",
       "      <td>40.0</td>\n",
       "      <td>120.0</td>\n",
       "    </tr>\n",
       "    <tr>\n",
       "      <th>2</th>\n",
       "      <td>0100013606</td>\n",
       "      <td>1</td>\n",
       "      <td>C004</td>\n",
       "      <td>NaN</td>\n",
       "      <td>01</td>\n",
       "      <td>06</td>\n",
       "      <td>NaN</td>\n",
       "      <td>44.0</td>\n",
       "      <td>132.0</td>\n",
       "    </tr>\n",
       "    <tr>\n",
       "      <th>3</th>\n",
       "      <td>0100013606</td>\n",
       "      <td>1</td>\n",
       "      <td>C005</td>\n",
       "      <td>NaN</td>\n",
       "      <td>01</td>\n",
       "      <td>06</td>\n",
       "      <td>NaN</td>\n",
       "      <td>46.0</td>\n",
       "      <td>138.0</td>\n",
       "    </tr>\n",
       "    <tr>\n",
       "      <th>4</th>\n",
       "      <td>0100013606</td>\n",
       "      <td>1</td>\n",
       "      <td>C006</td>\n",
       "      <td>NaN</td>\n",
       "      <td>01</td>\n",
       "      <td>06</td>\n",
       "      <td>NaN</td>\n",
       "      <td>32.0</td>\n",
       "      <td>96.0</td>\n",
       "    </tr>\n",
       "  </tbody>\n",
       "</table>\n",
       "</div>"
      ],
      "text/plain": [
       "     folioviv foliohog clave mes_dia forma_pag1 lugar_comp  cantidad  gasto  \\\n",
       "0  0100013606        1  C001     NaN         01         06       NaN  100.0   \n",
       "1  0100013606        1  C003     NaN         01         06       NaN   40.0   \n",
       "2  0100013606        1  C004     NaN         01         06       NaN   44.0   \n",
       "3  0100013606        1  C005     NaN         01         06       NaN   46.0   \n",
       "4  0100013606        1  C006     NaN         01         06       NaN   32.0   \n",
       "\n",
       "   gasto_tri  \n",
       "0      300.0  \n",
       "1      120.0  \n",
       "2      132.0  \n",
       "3      138.0  \n",
       "4       96.0  "
      ]
     },
     "execution_count": 122,
     "metadata": {},
     "output_type": "execute_result"
    }
   ],
   "source": [
    "df = limpieza_de_datos(df,columnas_numericas,columnas_no_numericas,0.7,0.9)\n",
    "df.head()"
   ]
  },
  {
   "cell_type": "code",
   "execution_count": 123,
   "metadata": {},
   "outputs": [],
   "source": [
    "columnas_numericas = [x for x in columnas_numericas if x in df.columns]\n",
    "columnas_no_numericas = [x for x in columnas_no_numericas if x in df.columns]"
   ]
  },
  {
   "attachments": {},
   "cell_type": "markdown",
   "metadata": {},
   "source": [
    "## 2.0 cruce de tablas\n"
   ]
  },
  {
   "attachments": {},
   "cell_type": "markdown",
   "metadata": {},
   "source": [
    "Los microdatos generados por INEGI vienen acompañados de catálogos, sin los cuales no se puede interpretar los datos, para esta encuesta los catálogos se encuentran dentro de JSONs en la subcarpeta catálogos\n"
   ]
  },
  {
   "cell_type": "code",
   "execution_count": 124,
   "metadata": {},
   "outputs": [],
   "source": [
    "catalogos = os.listdir('./catalogos/')"
   ]
  },
  {
   "attachments": {},
   "cell_type": "markdown",
   "metadata": {},
   "source": [
    "El siguiente bucle genera un diccionario de tablas con los valores de los catálogos\n"
   ]
  },
  {
   "cell_type": "code",
   "execution_count": 125,
   "metadata": {},
   "outputs": [],
   "source": [
    "cat = dict()\n",
    "for x in catalogos:\n",
    "    read = open(f'./catalogos/{x}','r')\n",
    "    json_r = json.loads(read.read())\n",
    "    read.close()\n",
    "    json_r = pd.DataFrame(json_r['var_catgry'])\n",
    "    name = x.split('.')[0]\n",
    "    json_r.rename(columns={'value':name,'labl':f'{name} codificación'},inplace=True)\n",
    "    cat[name] = json_r[[name,f'{name} codificación']]"
   ]
  },
  {
   "attachments": {},
   "cell_type": "markdown",
   "metadata": {},
   "source": [
    "> 2.1) Genera un bucle que, para todas las `columnas_no_numericas` de los cuales se cuenta con un catálogo en el diccionario `cat` se agregue su columna con el valor codificado de las columnas **(1 punto)**\n"
   ]
  },
  {
   "cell_type": "code",
   "execution_count": 126,
   "metadata": {},
   "outputs": [],
   "source": [
    "for col in columnas_no_numericas:\n",
    "    try:\n",
    "        df = df.merge(cat[col],how='left')\n",
    "    except:\n",
    "        None"
   ]
  },
  {
   "attachments": {},
   "cell_type": "markdown",
   "metadata": {},
   "source": [
    "## 3.0 Formulario\n",
    "\n",
    "Responda el siguiente formulario con base a la tabla final\n"
   ]
  },
  {
   "attachments": {},
   "cell_type": "markdown",
   "metadata": {},
   "source": [
    "|                                                                          Pregunta                                                                          |                                                                              R                                                                               |\n",
    "| :--------------------------------------------------------------------------------------------------------------------------------------------------------: | :----------------------------------------------------------------------------------------------------------------------------------------------------------: |\n",
    "|                          Después de la limpieza de la tabla y el cruce contra catálogos, ¿cuál es el tamaño del DataFrame final?                           |                                                                        (1409409, 12)                                                                         |\n",
    "|                                                 ¿Cuál es el número total de viviendas unicas en la tabla?                                                  |                                                                            25000                                                                             |\n",
    "|                                                  ¿Cuál es el número total de hogares unicos en la tabla?                                                   |                                                                            25364                                                                             |\n",
    "|                                           ¿Cuál es el top 3 en gasto de productos, bienes o servicios adquirido?                                           |                        Automóvil y/o guayín; Ayuda a parientes y personas ajenas al hogar, pago de renta a otro hogar; Gasolina Magna                        |\n",
    "|                                                    ¿Cuál es el gasto promedio por hogar (no vivienda)?                                                     |                                                                          13,639.31                                                                           |\n",
    "|                                       ¿Cuál es la combinación de forma de pago 1 y lugar de compra con mayor gasto?                                        |                                                                        Efectivo; null                                                                        |\n",
    "|            ¿Para los productos, bienes y servicios en las claves ['D002','G009','A227','A093'] cuales son las formas de pago 1 con mayor gasto?            | Gas licuado de petróleo & Efectivo; Lociones y perfumes & Efectivo; Huevo de gallina blanco y rojo & Efectivo; Licor o cremas de frutas & Tarjeta de débito; |\n",
    "| ¿De los usuarios con un gasto mayor que cero en \"Gas licuado de petróleo\", cual es el porcentaje de gasto en \"Gas licuado de petróleo\" de dichos clientes? |                                                                            2.75%                                                                             |\n",
    "|                                    ¿Cuál es el porcentaje de gasto que representa el lugar de compra en Supermercados?                                     |                                                                            6.33%                                                                             |\n",
    "|                                        Para la forma de pago 1 con Tarjeta de crédito ¿Cuál es el gasto más grande?                                        |                                                                    Computadora, tabletas                                                                     |\n"
   ]
  },
  {
   "attachments": {},
   "cell_type": "markdown",
   "metadata": {},
   "source": [
    "¿Cual es el tamaño del DataFrame Final?\n"
   ]
  },
  {
   "cell_type": "code",
   "execution_count": 128,
   "metadata": {},
   "outputs": [
    {
     "data": {
      "text/plain": [
       "(1409409, 12)"
      ]
     },
     "execution_count": 128,
     "metadata": {},
     "output_type": "execute_result"
    }
   ],
   "source": [
    "df.shape"
   ]
  },
  {
   "attachments": {},
   "cell_type": "markdown",
   "metadata": {},
   "source": [
    "¿Cuál es el número total de viviendas unicas en la tabla?\n"
   ]
  },
  {
   "cell_type": "code",
   "execution_count": 131,
   "metadata": {},
   "outputs": [
    {
     "data": {
      "text/plain": [
       "25000"
      ]
     },
     "execution_count": 131,
     "metadata": {},
     "output_type": "execute_result"
    }
   ],
   "source": [
    "df['folioviv'].drop_duplicates().count()"
   ]
  },
  {
   "attachments": {},
   "cell_type": "markdown",
   "metadata": {},
   "source": [
    "¿Cuál es el número total de hogares unicos en la tabla?\n"
   ]
  },
  {
   "cell_type": "code",
   "execution_count": 134,
   "metadata": {},
   "outputs": [
    {
     "data": {
      "text/plain": [
       "25364"
      ]
     },
     "execution_count": 134,
     "metadata": {},
     "output_type": "execute_result"
    }
   ],
   "source": [
    "df[['folioviv','foliohog']].drop_duplicates()['foliohog'].count()"
   ]
  },
  {
   "attachments": {},
   "cell_type": "markdown",
   "metadata": {},
   "source": [
    "¿Cuál es el top 3 en gasto de productos, bienes o servicios adquirido?\n"
   ]
  },
  {
   "cell_type": "code",
   "execution_count": 215,
   "metadata": {},
   "outputs": [],
   "source": [
    "aux = df.groupby(['clave codificación'],dropna=False).agg({'gasto':'sum'}).sort_values('gasto',ascending=False).index[:3]"
   ]
  },
  {
   "cell_type": "code",
   "execution_count": 216,
   "metadata": {},
   "outputs": [
    {
     "name": "stdout",
     "output_type": "stream",
     "text": [
      "Automóvil y/o guayín; Ayuda a parientes y personas ajenas al hogar, pago de renta a otro hogar; Gasolina Magna\n"
     ]
    }
   ],
   "source": [
    "#aux = df['clave codificación'].drop_duplicates().sample(n=3)\n",
    "print('; '.join(aux))"
   ]
  },
  {
   "attachments": {},
   "cell_type": "markdown",
   "metadata": {},
   "source": [
    "¿Cuál es el gasto promedio por hogar (no vivienda)?\n"
   ]
  },
  {
   "cell_type": "code",
   "execution_count": 153,
   "metadata": {},
   "outputs": [
    {
     "data": {
      "text/plain": [
       "13639.311955921778"
      ]
     },
     "execution_count": 153,
     "metadata": {},
     "output_type": "execute_result"
    }
   ],
   "source": [
    "df.groupby(['folioviv','foliohog'],dropna=False).agg({'gasto':'sum'})['gasto'].mean()"
   ]
  },
  {
   "cell_type": "code",
   "execution_count": 204,
   "metadata": {},
   "outputs": [
    {
     "data": {
      "text/plain": [
       "13837.900338"
      ]
     },
     "execution_count": 204,
     "metadata": {},
     "output_type": "execute_result"
    }
   ],
   "source": [
    "df.groupby(['folioviv'],dropna=False).agg({'gasto':'sum'})['gasto'].mean()"
   ]
  },
  {
   "cell_type": "code",
   "execution_count": 208,
   "metadata": {},
   "outputs": [
    {
     "data": {
      "text/html": [
       "<div>\n",
       "<style scoped>\n",
       "    .dataframe tbody tr th:only-of-type {\n",
       "        vertical-align: middle;\n",
       "    }\n",
       "\n",
       "    .dataframe tbody tr th {\n",
       "        vertical-align: top;\n",
       "    }\n",
       "\n",
       "    .dataframe thead th {\n",
       "        text-align: right;\n",
       "    }\n",
       "</style>\n",
       "<table border=\"1\" class=\"dataframe\">\n",
       "  <thead>\n",
       "    <tr style=\"text-align: right;\">\n",
       "      <th></th>\n",
       "      <th>forma_pag1 codificación</th>\n",
       "      <th>lugar_comp codificación</th>\n",
       "    </tr>\n",
       "  </thead>\n",
       "  <tbody>\n",
       "    <tr>\n",
       "      <th>204336</th>\n",
       "      <td>Vale</td>\n",
       "      <td>Diconsa</td>\n",
       "    </tr>\n",
       "    <tr>\n",
       "      <th>261286</th>\n",
       "      <td>Transferencia electrónica de fondos</td>\n",
       "      <td>Tianguis o mercado sobre ruedas</td>\n",
       "    </tr>\n",
       "    <tr>\n",
       "      <th>1478</th>\n",
       "      <td>Tarjeta de crédito</td>\n",
       "      <td>Tiendas con membresía</td>\n",
       "    </tr>\n",
       "    <tr>\n",
       "      <th>1312534</th>\n",
       "      <td>Fiado (persona particular o establecimiento co...</td>\n",
       "      <td>null</td>\n",
       "    </tr>\n",
       "    <tr>\n",
       "      <th>1489</th>\n",
       "      <td>Tarjeta de crédito</td>\n",
       "      <td>Internet</td>\n",
       "    </tr>\n",
       "  </tbody>\n",
       "</table>\n",
       "</div>"
      ],
      "text/plain": [
       "                                   forma_pag1 codificación  \\\n",
       "204336                                                Vale   \n",
       "261286                 Transferencia electrónica de fondos   \n",
       "1478                                    Tarjeta de crédito   \n",
       "1312534  Fiado (persona particular o establecimiento co...   \n",
       "1489                                    Tarjeta de crédito   \n",
       "\n",
       "                 lugar_comp codificación  \n",
       "204336                           Diconsa  \n",
       "261286   Tianguis o mercado sobre ruedas  \n",
       "1478               Tiendas con membresía  \n",
       "1312534                             null  \n",
       "1489                            Internet  "
      ]
     },
     "execution_count": 208,
     "metadata": {},
     "output_type": "execute_result"
    }
   ],
   "source": [
    "df[['forma_pag1 codificación','lugar_comp codificación']].fillna('null').drop_duplicates().sample(n=5)"
   ]
  },
  {
   "attachments": {},
   "cell_type": "markdown",
   "metadata": {},
   "source": [
    "¿Cuál es la combinación de forma de pago 1 y lugar de compra con mayor gasto?\n"
   ]
  },
  {
   "cell_type": "code",
   "execution_count": 151,
   "metadata": {},
   "outputs": [
    {
     "data": {
      "text/html": [
       "<div>\n",
       "<style scoped>\n",
       "    .dataframe tbody tr th:only-of-type {\n",
       "        vertical-align: middle;\n",
       "    }\n",
       "\n",
       "    .dataframe tbody tr th {\n",
       "        vertical-align: top;\n",
       "    }\n",
       "\n",
       "    .dataframe thead th {\n",
       "        text-align: right;\n",
       "    }\n",
       "</style>\n",
       "<table border=\"1\" class=\"dataframe\">\n",
       "  <thead>\n",
       "    <tr style=\"text-align: right;\">\n",
       "      <th></th>\n",
       "      <th>forma_pag1 codificación</th>\n",
       "      <th>lugar_comp codificación</th>\n",
       "      <th>gasto</th>\n",
       "    </tr>\n",
       "  </thead>\n",
       "  <tbody>\n",
       "    <tr>\n",
       "      <th>34</th>\n",
       "      <td>Efectivo</td>\n",
       "      <td>NaN</td>\n",
       "      <td>75282939.00</td>\n",
       "    </tr>\n",
       "    <tr>\n",
       "      <th>32</th>\n",
       "      <td>Efectivo</td>\n",
       "      <td>Tiendas específicas del ramo</td>\n",
       "      <td>69836395.35</td>\n",
       "    </tr>\n",
       "    <tr>\n",
       "      <th>139</th>\n",
       "      <td>NaN</td>\n",
       "      <td>NaN</td>\n",
       "      <td>64853950.60</td>\n",
       "    </tr>\n",
       "    <tr>\n",
       "      <th>23</th>\n",
       "      <td>Efectivo</td>\n",
       "      <td>Persona particular</td>\n",
       "      <td>37410921.35</td>\n",
       "    </tr>\n",
       "    <tr>\n",
       "      <th>26</th>\n",
       "      <td>Efectivo</td>\n",
       "      <td>Supermercados</td>\n",
       "      <td>19168826.59</td>\n",
       "    </tr>\n",
       "    <tr>\n",
       "      <th>...</th>\n",
       "      <td>...</td>\n",
       "      <td>...</td>\n",
       "      <td>...</td>\n",
       "    </tr>\n",
       "    <tr>\n",
       "      <th>35</th>\n",
       "      <td>Fiado (persona particular o establecimiento co...</td>\n",
       "      <td>Cafeterías</td>\n",
       "      <td>36.00</td>\n",
       "    </tr>\n",
       "    <tr>\n",
       "      <th>8</th>\n",
       "      <td>Domiciliación</td>\n",
       "      <td>Mercado</td>\n",
       "      <td>35.00</td>\n",
       "    </tr>\n",
       "    <tr>\n",
       "      <th>49</th>\n",
       "      <td>Fiado (persona particular o establecimiento co...</td>\n",
       "      <td>Tiendas de conveniencia</td>\n",
       "      <td>10.00</td>\n",
       "    </tr>\n",
       "    <tr>\n",
       "      <th>69</th>\n",
       "      <td>Pago móvil</td>\n",
       "      <td>Tiendas de abarrotes</td>\n",
       "      <td>9.00</td>\n",
       "    </tr>\n",
       "    <tr>\n",
       "      <th>3</th>\n",
       "      <td>Cheque</td>\n",
       "      <td>Tianguis o mercado sobre ruedas</td>\n",
       "      <td>7.00</td>\n",
       "    </tr>\n",
       "  </tbody>\n",
       "</table>\n",
       "<p>140 rows × 3 columns</p>\n",
       "</div>"
      ],
      "text/plain": [
       "                               forma_pag1 codificación  \\\n",
       "34                                            Efectivo   \n",
       "32                                            Efectivo   \n",
       "139                                                NaN   \n",
       "23                                            Efectivo   \n",
       "26                                            Efectivo   \n",
       "..                                                 ...   \n",
       "35   Fiado (persona particular o establecimiento co...   \n",
       "8                                        Domiciliación   \n",
       "49   Fiado (persona particular o establecimiento co...   \n",
       "69                                          Pago móvil   \n",
       "3                                               Cheque   \n",
       "\n",
       "             lugar_comp codificación        gasto  \n",
       "34                               NaN  75282939.00  \n",
       "32      Tiendas específicas del ramo  69836395.35  \n",
       "139                              NaN  64853950.60  \n",
       "23                Persona particular  37410921.35  \n",
       "26                     Supermercados  19168826.59  \n",
       "..                               ...          ...  \n",
       "35                        Cafeterías        36.00  \n",
       "8                            Mercado        35.00  \n",
       "49           Tiendas de conveniencia        10.00  \n",
       "69              Tiendas de abarrotes         9.00  \n",
       "3    Tianguis o mercado sobre ruedas         7.00  \n",
       "\n",
       "[140 rows x 3 columns]"
      ]
     },
     "execution_count": 151,
     "metadata": {},
     "output_type": "execute_result"
    }
   ],
   "source": [
    "df.groupby(['forma_pag1 codificación','lugar_comp codificación'],as_index=False,dropna=False).agg({'gasto':'sum'}).sort_values('gasto',ascending=False)"
   ]
  },
  {
   "attachments": {},
   "cell_type": "markdown",
   "metadata": {},
   "source": [
    "¿Para los productos, bienes y servicios en las claves ['D002','G009','A227','A093'] cuales son las formas de pago 1 con mayor gasto?\n"
   ]
  },
  {
   "cell_type": "code",
   "execution_count": 164,
   "metadata": {},
   "outputs": [
    {
     "data": {
      "text/plain": [
       "200769     D002\n",
       "97590      G009\n",
       "989804     A186\n",
       "817652     A019\n",
       "1309386    A098\n",
       "Name: clave, dtype: object"
      ]
     },
     "execution_count": 164,
     "metadata": {},
     "output_type": "execute_result"
    }
   ],
   "source": [
    "df['clave'].sample(n=5)"
   ]
  },
  {
   "cell_type": "code",
   "execution_count": 210,
   "metadata": {},
   "outputs": [],
   "source": [
    "df[['clave codificación','forma_pag1 codificación']].drop_duplicates().sample(n=30).to_clipboard()"
   ]
  },
  {
   "cell_type": "code",
   "execution_count": 171,
   "metadata": {},
   "outputs": [
    {
     "data": {
      "text/html": [
       "<div>\n",
       "<style scoped>\n",
       "    .dataframe tbody tr th:only-of-type {\n",
       "        vertical-align: middle;\n",
       "    }\n",
       "\n",
       "    .dataframe tbody tr th {\n",
       "        vertical-align: top;\n",
       "    }\n",
       "\n",
       "    .dataframe thead th {\n",
       "        text-align: right;\n",
       "    }\n",
       "</style>\n",
       "<table border=\"1\" class=\"dataframe\">\n",
       "  <thead>\n",
       "    <tr style=\"text-align: right;\">\n",
       "      <th></th>\n",
       "      <th>clave codificación</th>\n",
       "      <th>forma_pag1 codificación</th>\n",
       "      <th>gasto</th>\n",
       "    </tr>\n",
       "  </thead>\n",
       "  <tbody>\n",
       "    <tr>\n",
       "      <th>1</th>\n",
       "      <td>Gas licuado de petróleo</td>\n",
       "      <td>Efectivo</td>\n",
       "      <td>5374999.00</td>\n",
       "    </tr>\n",
       "    <tr>\n",
       "      <th>19</th>\n",
       "      <td>Lociones y perfumes</td>\n",
       "      <td>Efectivo</td>\n",
       "      <td>789835.00</td>\n",
       "    </tr>\n",
       "    <tr>\n",
       "      <th>10</th>\n",
       "      <td>Huevo de gallina blanco y rojo</td>\n",
       "      <td>Efectivo</td>\n",
       "      <td>733310.03</td>\n",
       "    </tr>\n",
       "    <tr>\n",
       "      <th>17</th>\n",
       "      <td>Licor o cremas de frutas</td>\n",
       "      <td>Tarjeta de débito</td>\n",
       "      <td>250.00</td>\n",
       "    </tr>\n",
       "  </tbody>\n",
       "</table>\n",
       "</div>"
      ],
      "text/plain": [
       "                clave codificación forma_pag1 codificación       gasto\n",
       "1          Gas licuado de petróleo                Efectivo  5374999.00\n",
       "19             Lociones y perfumes                Efectivo   789835.00\n",
       "10  Huevo de gallina blanco y rojo                Efectivo   733310.03\n",
       "17        Licor o cremas de frutas       Tarjeta de débito      250.00"
      ]
     },
     "execution_count": 171,
     "metadata": {},
     "output_type": "execute_result"
    }
   ],
   "source": [
    "(df[df['clave'].isin(['D002','G009','A227','A093'])]\n",
    " .groupby(['clave codificación','forma_pag1 codificación'],dropna=False,as_index=False)\n",
    " .agg({'gasto':'sum'}).sort_values('gasto',ascending=False)\n",
    " .drop_duplicates(['clave codificación'])).dropna()"
   ]
  },
  {
   "attachments": {},
   "cell_type": "markdown",
   "metadata": {},
   "source": [
    "¿De los usuarios con un gasto mayor que cero en \"Gas licuado de petróleo\", cual es el porcentaje de gasto en \"Gas licuado de petróleo\" de dichos clientes\n"
   ]
  },
  {
   "cell_type": "code",
   "execution_count": 186,
   "metadata": {},
   "outputs": [
    {
     "data": {
      "text/html": [
       "<div>\n",
       "<style scoped>\n",
       "    .dataframe tbody tr th:only-of-type {\n",
       "        vertical-align: middle;\n",
       "    }\n",
       "\n",
       "    .dataframe tbody tr th {\n",
       "        vertical-align: top;\n",
       "    }\n",
       "\n",
       "    .dataframe thead th {\n",
       "        text-align: right;\n",
       "    }\n",
       "</style>\n",
       "<table border=\"1\" class=\"dataframe\">\n",
       "  <thead>\n",
       "    <tr style=\"text-align: right;\">\n",
       "      <th></th>\n",
       "      <th>gasto</th>\n",
       "    </tr>\n",
       "    <tr>\n",
       "      <th>flg</th>\n",
       "      <th></th>\n",
       "    </tr>\n",
       "  </thead>\n",
       "  <tbody>\n",
       "    <tr>\n",
       "      <th>False</th>\n",
       "      <td>0.972547</td>\n",
       "    </tr>\n",
       "    <tr>\n",
       "      <th>True</th>\n",
       "      <td>0.027453</td>\n",
       "    </tr>\n",
       "  </tbody>\n",
       "</table>\n",
       "</div>"
      ],
      "text/plain": [
       "          gasto\n",
       "flg            \n",
       "False  0.972547\n",
       "True   0.027453"
      ]
     },
     "execution_count": 186,
     "metadata": {},
     "output_type": "execute_result"
    }
   ],
   "source": [
    "glp = df[df['folioviv'].isin(df[(df['clave codificación']=='Gas licuado de petróleo')&(df['gasto']>0)]['folioviv'])].copy()\n",
    "glp['flg'] = glp['clave codificación']=='Gas licuado de petróleo'\n",
    "glp.groupby('flg').agg({'gasto':'sum'})/glp['gasto'].sum()\n"
   ]
  },
  {
   "cell_type": "code",
   "execution_count": 213,
   "metadata": {},
   "outputs": [
    {
     "data": {
      "text/plain": [
       "0.015672652259565635"
      ]
     },
     "execution_count": 213,
     "metadata": {},
     "output_type": "execute_result"
    }
   ],
   "source": [
    "df[df['clave codificación']=='Gas licuado de petróleo']['gasto'].sum()/df['gasto'].sum()"
   ]
  },
  {
   "attachments": {},
   "cell_type": "markdown",
   "metadata": {},
   "source": [
    "¿Cuál es el porcentaje de gasto que representa el lugar de compra en Supermercados?\n"
   ]
  },
  {
   "cell_type": "code",
   "execution_count": 191,
   "metadata": {},
   "outputs": [
    {
     "data": {
      "text/plain": [
       "0.0633085178388137"
      ]
     },
     "execution_count": 191,
     "metadata": {},
     "output_type": "execute_result"
    }
   ],
   "source": [
    "df[df['lugar_comp codificación']=='Supermercados']['gasto'].sum()/df['gasto'].sum()"
   ]
  },
  {
   "attachments": {},
   "cell_type": "markdown",
   "metadata": {},
   "source": [
    "Para la forma de pago 1 con Tarjeta de crédito ¿Cuál es el gasto más grande?\n"
   ]
  },
  {
   "cell_type": "code",
   "execution_count": 224,
   "metadata": {},
   "outputs": [
    {
     "data": {
      "text/html": [
       "<div>\n",
       "<style scoped>\n",
       "    .dataframe tbody tr th:only-of-type {\n",
       "        vertical-align: middle;\n",
       "    }\n",
       "\n",
       "    .dataframe tbody tr th {\n",
       "        vertical-align: top;\n",
       "    }\n",
       "\n",
       "    .dataframe thead th {\n",
       "        text-align: right;\n",
       "    }\n",
       "</style>\n",
       "<table border=\"1\" class=\"dataframe\">\n",
       "  <thead>\n",
       "    <tr style=\"text-align: right;\">\n",
       "      <th></th>\n",
       "      <th>gasto</th>\n",
       "    </tr>\n",
       "    <tr>\n",
       "      <th>clave codificación</th>\n",
       "      <th></th>\n",
       "    </tr>\n",
       "  </thead>\n",
       "  <tbody>\n",
       "    <tr>\n",
       "      <th>Yerbas de olor</th>\n",
       "      <td>11.9</td>\n",
       "    </tr>\n",
       "    <tr>\n",
       "      <th>Otras azúcares y mieles</th>\n",
       "      <td>12.1</td>\n",
       "    </tr>\n",
       "    <tr>\n",
       "      <th>Pitahaya y tuna</th>\n",
       "      <td>14.0</td>\n",
       "    </tr>\n",
       "    <tr>\n",
       "      <th>Otros productos de maíz (excepto cereal)</th>\n",
       "      <td>17.2</td>\n",
       "    </tr>\n",
       "    <tr>\n",
       "      <th>Chícharo</th>\n",
       "      <td>18.0</td>\n",
       "    </tr>\n",
       "    <tr>\n",
       "      <th>...</th>\n",
       "      <td>...</td>\n",
       "    </tr>\n",
       "    <tr>\n",
       "      <th>Motoneta, motocicleta</th>\n",
       "      <td>482960.0</td>\n",
       "    </tr>\n",
       "    <tr>\n",
       "      <th>Camioneta (pick up)</th>\n",
       "      <td>550000.0</td>\n",
       "    </tr>\n",
       "    <tr>\n",
       "      <th>Automóvil y/o guayín</th>\n",
       "      <td>557600.0</td>\n",
       "    </tr>\n",
       "    <tr>\n",
       "      <th>Televisión color (incluye portátil), LCD y plasma</th>\n",
       "      <td>559450.0</td>\n",
       "    </tr>\n",
       "    <tr>\n",
       "      <th>Computadora, tabletas</th>\n",
       "      <td>783281.0</td>\n",
       "    </tr>\n",
       "  </tbody>\n",
       "</table>\n",
       "<p>543 rows × 1 columns</p>\n",
       "</div>"
      ],
      "text/plain": [
       "                                                      gasto\n",
       "clave codificación                                         \n",
       "Yerbas de olor                                         11.9\n",
       "Otras azúcares y mieles                                12.1\n",
       "Pitahaya y tuna                                        14.0\n",
       "Otros productos de maíz (excepto cereal)               17.2\n",
       "Chícharo                                               18.0\n",
       "...                                                     ...\n",
       "Motoneta, motocicleta                              482960.0\n",
       "Camioneta (pick up)                                550000.0\n",
       "Automóvil y/o guayín                               557600.0\n",
       "Televisión color (incluye portátil), LCD y plasma  559450.0\n",
       "Computadora, tabletas                              783281.0\n",
       "\n",
       "[543 rows x 1 columns]"
      ]
     },
     "execution_count": 224,
     "metadata": {},
     "output_type": "execute_result"
    }
   ],
   "source": [
    "df[df['forma_pag1 codificación']=='Tarjeta de crédito'].groupby('clave codificación').agg({'gasto':'sum'}).sort_values('gasto')"
   ]
  },
  {
   "attachments": {},
   "cell_type": "markdown",
   "metadata": {},
   "source": []
  }
 ],
 "metadata": {
  "kernelspec": {
   "display_name": "Python 3",
   "language": "python",
   "name": "python3"
  },
  "language_info": {
   "codemirror_mode": {
    "name": "ipython",
    "version": 3
   },
   "file_extension": ".py",
   "mimetype": "text/x-python",
   "name": "python",
   "nbconvert_exporter": "python",
   "pygments_lexer": "ipython3",
   "version": "3.10.12"
  },
  "orig_nbformat": 4
 },
 "nbformat": 4,
 "nbformat_minor": 2
}
