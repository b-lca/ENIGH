{
 "cells": [
  {
   "cell_type": "code",
   "execution_count": 2,
   "metadata": {},
   "outputs": [],
   "source": [
    "import numpy as np\n",
    "import pandas as pd\n",
    "import json\n",
    "import os\n",
    "\n",
    "pd.set_option('display.max_columns',None)"
   ]
  },
  {
   "attachments": {},
   "cell_type": "markdown",
   "metadata": {},
   "source": [
    "/FileStore/tables/estados.csv\n"
   ]
  },
  {
   "cell_type": "code",
   "execution_count": 3,
   "metadata": {},
   "outputs": [],
   "source": [
    "read = open('./metadata.json','r')\n",
    "metadata = json.loads(read.read())\n",
    "read.close()"
   ]
  },
  {
   "cell_type": "code",
   "execution_count": 4,
   "metadata": {},
   "outputs": [
    {
     "data": {
      "text/plain": [
       "dict_keys(['doc_desc', 'study_desc'])"
      ]
     },
     "execution_count": 4,
     "metadata": {},
     "output_type": "execute_result"
    }
   ],
   "source": [
    "metadata.keys()"
   ]
  },
  {
   "attachments": {},
   "cell_type": "markdown",
   "metadata": {},
   "source": [
    "# limpieza de datos\n"
   ]
  },
  {
   "cell_type": "code",
   "execution_count": 4,
   "metadata": {},
   "outputs": [
    {
     "name": "stderr",
     "output_type": "stream",
     "text": [
      "C:\\Users\\brenda.linares\\AppData\\Local\\Temp\\ipykernel_22608\\3629872917.py:1: DtypeWarning: Columns (13,14,16,20,21,22,23,24,25) have mixed types. Specify dtype option on import or set low_memory=False.\n",
      "  df = pd.read_csv('gastoshogar.txt'\n"
     ]
    }
   ],
   "source": [
    "df = pd.read_csv('gastoshogar.txt'\n",
    "                 ,dtype={x:'str' for x in ['clave', 'forma_pag1', 'forma_pag2', 'forma_pag3', 'frecuencia', 'inst_1', 'inst_2', 'lugar_comp', 'orga_inst', 'tipo_gasto', 'mes_dia', 'fecha_adqu', 'fecha_pago', 'folioviv', 'foliohog']}\n",
    "                 ,na_values=['0000','00','0'] \n",
    "                 ,quotechar=\"'\"\n",
    "                 )"
   ]
  },
  {
   "cell_type": "code",
   "execution_count": 5,
   "metadata": {},
   "outputs": [],
   "source": [
    "# El siguiente es un ejemplo de la respuesta esperada, sin embargo, para conseguir el punto debe encontrar el error en la función\n",
    "\n",
    "def valores_numericos(data:pd.DataFrame, columnas:list):\n",
    "    \"\"\"Recibe un DataFrame y un listado de columnas y transforma el tipo de dato de estas ultimas a flotante\"\"\"\n",
    "    data_out = data.copy() #recuerda hacer un copy de la tabla a manipular en la función para evitar problemas de relación\n",
    "    for columna in columnas:\n",
    "        data_out[columna] = pd.to_numeric(data_out[columna],errors='coerce').astype(float)\n",
    "    return data_out\n",
    "\n",
    "# El siguiente es un ejemplo de la respuesta esperada, sin embargo, para conseguir el punto debe encontrar el error en la función\n",
    "def no_nulo(data:pd.DataFrame, min_pct_no_nulo:float=0.60):\n",
    "    \"\"\"Recibe un DataFrame y un listado de columnas y transforma el tipo de dato de estas ultimas a flotante\"\"\"\n",
    "    data_out = data.copy() #recuerda hacer un copy de la tabla a manipular en la función para evitar problemas de relación\n",
    "    drop_cols = []\n",
    "    \n",
    "    for column in range(len(data_out.columns)):\n",
    "        if (data_out.iloc[:,column].isnull().sum() / len(data_out.iloc[:,column]) ) > min_pct_no_nulo:\n",
    "            drop_cols.append(data_out.columns[column])\n",
    "            \n",
    "        else:\n",
    "            pass\n",
    "    \n",
    "    data_out = data_out.drop(axis=1,labels=drop_cols)\n",
    "    return data_out\n",
    "\n",
    "def no_unarias(data:pd.DataFrame, columnas:list, max_pct_repeticion:float=0.90):\n",
    "    data_out = data.copy() #recuerda hacer un copy de la tabla a manipular en la función para evitar problemas de relación\n",
    "    drop_cols = []\n",
    "\n",
    "    for columna in columnas:\n",
    "        if columna in data_out.columns:\n",
    "            if (data_out[columna].value_counts().max() / len(data_out.iloc[:,1]) ) > max_pct_repeticion:\n",
    "                drop_cols.append(columna)\n",
    "            else:\n",
    "                pass\n",
    "        else:\n",
    "            pass\n",
    "    \n",
    "    data_out = data_out.drop(axis=1,labels=drop_cols)\n",
    "    return data_out"
   ]
  },
  {
   "cell_type": "code",
   "execution_count": 6,
   "metadata": {},
   "outputs": [],
   "source": [
    "def limpieza_de_datos(data:pd.DataFrame, columnas_numericas:list, columnas_no_numericas:list, min_pct_no_nulo:float=0.60, max_pct_repeticion:float=0.90):\n",
    "    data_out = data.copy() #recuerda hacer un copy de la tabla a manipular en la función para evitar problemas de relación\n",
    "    \n",
    "    num_vals = valores_numericos(data_out,columnas_numericas)\n",
    "    print('numeric values are now FLOATS')\n",
    "    \n",
    "    sin_null = no_nulo(num_vals, min_pct_no_nulo=min_pct_no_nulo)\n",
    "    print('null values removed')\n",
    "    \n",
    "    \n",
    "    for c in columnas_no_numericas:\n",
    "        if c in sin_null.columns:\n",
    "            data_out = no_unarias(sin_null, columnas_no_numericas, max_pct_repeticion=max_pct_repeticion)\n",
    "        else:\n",
    "            pass\n",
    "    print('var disccretas limpias')\n",
    "    \n",
    "    return data_out\n",
    "\n",
    "# Hint: algunas columnas no numericas serán eliminadas por la función de no_nulo, por lo que al querer borrarlas en no_unarias puede producir que no encuentre la columna"
   ]
  },
  {
   "cell_type": "code",
   "execution_count": null,
   "metadata": {},
   "outputs": [],
   "source": []
  },
  {
   "cell_type": "code",
   "execution_count": 9,
   "metadata": {},
   "outputs": [],
   "source": [
    "cols_num = ['cantidad', 'gasto', 'pago_mp', 'costo', 'inmujer', 'num_meses', 'num_pagos', 'gasto_tri', 'gasto_nm', 'gas_nm_tri', 'imujer_tri']\n",
    "cols_nonum = ['clave', 'tipo_gasto', 'mes_dia', 'forma_pag1','forma_pag2', 'forma_pag3', 'lugar_comp', 'orga_inst', 'frecuencia','fecha_adqu', 'fecha_pago', 'inst_1', 'inst_2', 'ultim_pago']"
   ]
  },
  {
   "cell_type": "code",
   "execution_count": 8,
   "metadata": {},
   "outputs": [
    {
     "name": "stdout",
     "output_type": "stream",
     "text": [
      "numeric values are now FLOATS\n",
      "null values removed\n",
      "var disccretas limpias\n"
     ]
    },
    {
     "data": {
      "text/html": [
       "<div>\n",
       "<style scoped>\n",
       "    .dataframe tbody tr th:only-of-type {\n",
       "        vertical-align: middle;\n",
       "    }\n",
       "\n",
       "    .dataframe tbody tr th {\n",
       "        vertical-align: top;\n",
       "    }\n",
       "\n",
       "    .dataframe thead th {\n",
       "        text-align: right;\n",
       "    }\n",
       "</style>\n",
       "<table border=\"1\" class=\"dataframe\">\n",
       "  <thead>\n",
       "    <tr style=\"text-align: right;\">\n",
       "      <th></th>\n",
       "      <th>folioviv</th>\n",
       "      <th>foliohog</th>\n",
       "      <th>clave</th>\n",
       "      <th>mes_dia</th>\n",
       "      <th>forma_pag1</th>\n",
       "      <th>lugar_comp</th>\n",
       "      <th>cantidad</th>\n",
       "      <th>gasto</th>\n",
       "      <th>gasto_tri</th>\n",
       "    </tr>\n",
       "  </thead>\n",
       "  <tbody>\n",
       "    <tr>\n",
       "      <th>0</th>\n",
       "      <td>0100013606</td>\n",
       "      <td>1</td>\n",
       "      <td>C001</td>\n",
       "      <td>NaN</td>\n",
       "      <td>01</td>\n",
       "      <td>06</td>\n",
       "      <td>NaN</td>\n",
       "      <td>100.0</td>\n",
       "      <td>300.0</td>\n",
       "    </tr>\n",
       "    <tr>\n",
       "      <th>1</th>\n",
       "      <td>0100013606</td>\n",
       "      <td>1</td>\n",
       "      <td>C003</td>\n",
       "      <td>NaN</td>\n",
       "      <td>01</td>\n",
       "      <td>06</td>\n",
       "      <td>NaN</td>\n",
       "      <td>40.0</td>\n",
       "      <td>120.0</td>\n",
       "    </tr>\n",
       "    <tr>\n",
       "      <th>2</th>\n",
       "      <td>0100013606</td>\n",
       "      <td>1</td>\n",
       "      <td>C004</td>\n",
       "      <td>NaN</td>\n",
       "      <td>01</td>\n",
       "      <td>06</td>\n",
       "      <td>NaN</td>\n",
       "      <td>44.0</td>\n",
       "      <td>132.0</td>\n",
       "    </tr>\n",
       "    <tr>\n",
       "      <th>3</th>\n",
       "      <td>0100013606</td>\n",
       "      <td>1</td>\n",
       "      <td>C005</td>\n",
       "      <td>NaN</td>\n",
       "      <td>01</td>\n",
       "      <td>06</td>\n",
       "      <td>NaN</td>\n",
       "      <td>46.0</td>\n",
       "      <td>138.0</td>\n",
       "    </tr>\n",
       "    <tr>\n",
       "      <th>4</th>\n",
       "      <td>0100013606</td>\n",
       "      <td>1</td>\n",
       "      <td>C006</td>\n",
       "      <td>NaN</td>\n",
       "      <td>01</td>\n",
       "      <td>06</td>\n",
       "      <td>NaN</td>\n",
       "      <td>32.0</td>\n",
       "      <td>96.0</td>\n",
       "    </tr>\n",
       "  </tbody>\n",
       "</table>\n",
       "</div>"
      ],
      "text/plain": [
       "     folioviv foliohog clave mes_dia forma_pag1 lugar_comp  cantidad  gasto  \\\n",
       "0  0100013606        1  C001     NaN         01         06       NaN  100.0   \n",
       "1  0100013606        1  C003     NaN         01         06       NaN   40.0   \n",
       "2  0100013606        1  C004     NaN         01         06       NaN   44.0   \n",
       "3  0100013606        1  C005     NaN         01         06       NaN   46.0   \n",
       "4  0100013606        1  C006     NaN         01         06       NaN   32.0   \n",
       "\n",
       "   gasto_tri  \n",
       "0      300.0  \n",
       "1      120.0  \n",
       "2      132.0  \n",
       "3      138.0  \n",
       "4       96.0  "
      ]
     },
     "execution_count": 8,
     "metadata": {},
     "output_type": "execute_result"
    }
   ],
   "source": [
    "df_f = limpieza_de_datos(\n",
    "    data=df\n",
    "    ,columnas_numericas=cols_num\n",
    "    ,columnas_no_numericas=cols_nonum\n",
    "    ,min_pct_no_nulo=0.7\n",
    "    ,max_pct_repeticion=0.9\n",
    "    )\n",
    "df_f.head()"
   ]
  },
  {
   "cell_type": "code",
   "execution_count": 12,
   "metadata": {},
   "outputs": [
    {
     "name": "stdout",
     "output_type": "stream",
     "text": [
      "<class 'pandas.core.frame.DataFrame'>\n",
      "RangeIndex: 1409409 entries, 0 to 1409408\n",
      "Data columns (total 9 columns):\n",
      " #   Column      Non-Null Count    Dtype  \n",
      "---  ------      --------------    -----  \n",
      " 0   folioviv    1409409 non-null  object \n",
      " 1   foliohog    1409409 non-null  object \n",
      " 2   clave       1409409 non-null  object \n",
      " 3   mes_dia     705526 non-null   object \n",
      " 4   forma_pag1  1261869 non-null  object \n",
      " 5   lugar_comp  1135288 non-null  object \n",
      " 6   cantidad    705526 non-null   float64\n",
      " 7   gasto       1280294 non-null  float64\n",
      " 8   gasto_tri   1278856 non-null  float64\n",
      "dtypes: float64(3), object(6)\n",
      "memory usage: 96.8+ MB\n"
     ]
    }
   ],
   "source": [
    "df_f.info()"
   ]
  },
  {
   "cell_type": "code",
   "execution_count": 10,
   "metadata": {},
   "outputs": [],
   "source": [
    "columnas_numericas = [x for x in cols_num if x in df_f.columns]\n",
    "columnas_no_numericas = [x for x in cols_nonum if x in df_f.columns]"
   ]
  },
  {
   "attachments": {},
   "cell_type": "markdown",
   "metadata": {},
   "source": [
    "# Cruce tablas\n"
   ]
  },
  {
   "cell_type": "code",
   "execution_count": 13,
   "metadata": {},
   "outputs": [],
   "source": [
    "estados_df = pd.read_csv('estados.csv'\n",
    "                 ,na_values=['0000','00','0'] \n",
    "                 ,quotechar=\"'\"\n",
    "                 )"
   ]
  },
  {
   "cell_type": "code",
   "execution_count": 14,
   "metadata": {},
   "outputs": [
    {
     "name": "stdout",
     "output_type": "stream",
     "text": [
      "<class 'pandas.core.frame.DataFrame'>\n",
      "RangeIndex: 34 entries, 0 to 33\n",
      "Data columns (total 2 columns):\n",
      " #   Column    Non-Null Count  Dtype \n",
      "---  ------    --------------  ----- \n",
      " 0   clave     34 non-null     int64 \n",
      " 1   Enitidad  34 non-null     object\n",
      "dtypes: int64(1), object(1)\n",
      "memory usage: 672.0+ bytes\n"
     ]
    }
   ],
   "source": [
    "estados_df.info()"
   ]
  },
  {
   "cell_type": "code",
   "execution_count": 11,
   "metadata": {},
   "outputs": [],
   "source": [
    "catalogos = os.listdir('./catalogos/')"
   ]
  },
  {
   "cell_type": "code",
   "execution_count": 12,
   "metadata": {},
   "outputs": [],
   "source": [
    "cat = dict()\n",
    "for x in catalogos:\n",
    "    read = open(f'./catalogos/{x}','r')\n",
    "    json_r = json.loads(read.read())\n",
    "    read.close()\n",
    "    json_r = pd.DataFrame(json_r['var_catgry'])\n",
    "    name = x.split('.')[0]\n",
    "    json_r.rename(columns={'value':name,'labl':f'{name} codificación'},inplace=True)\n",
    "    cat[name] = json_r[[name,f'{name} codificación']]"
   ]
  },
  {
   "cell_type": "code",
   "execution_count": 13,
   "metadata": {},
   "outputs": [
    {
     "data": {
      "text/plain": [
       "dict_keys(['clave', 'forma_pag1', 'forma_pag2', 'forma_pag3', 'frecuencia', 'inst_1', 'inst_2', 'lugar_comp', 'orga_inst', 'tipo_gasto'])"
      ]
     },
     "execution_count": 13,
     "metadata": {},
     "output_type": "execute_result"
    }
   ],
   "source": [
    "cat.keys()"
   ]
  },
  {
   "cell_type": "code",
   "execution_count": 15,
   "metadata": {},
   "outputs": [],
   "source": [
    "for col in columnas_no_numericas:\n",
    "    try:\n",
    "        df_f = df_f.merge(cat[col],how='left')\n",
    "    except:\n",
    "        None"
   ]
  },
  {
   "cell_type": "code",
   "execution_count": 16,
   "metadata": {},
   "outputs": [
    {
     "data": {
      "text/html": [
       "<div>\n",
       "<style scoped>\n",
       "    .dataframe tbody tr th:only-of-type {\n",
       "        vertical-align: middle;\n",
       "    }\n",
       "\n",
       "    .dataframe tbody tr th {\n",
       "        vertical-align: top;\n",
       "    }\n",
       "\n",
       "    .dataframe thead th {\n",
       "        text-align: right;\n",
       "    }\n",
       "</style>\n",
       "<table border=\"1\" class=\"dataframe\">\n",
       "  <thead>\n",
       "    <tr style=\"text-align: right;\">\n",
       "      <th></th>\n",
       "      <th>folioviv</th>\n",
       "      <th>foliohog</th>\n",
       "      <th>clave</th>\n",
       "      <th>mes_dia</th>\n",
       "      <th>forma_pag1</th>\n",
       "      <th>lugar_comp</th>\n",
       "      <th>cantidad</th>\n",
       "      <th>gasto</th>\n",
       "      <th>gasto_tri</th>\n",
       "      <th>clave codificación</th>\n",
       "      <th>forma_pag1 codificación</th>\n",
       "      <th>lugar_comp codificación</th>\n",
       "    </tr>\n",
       "  </thead>\n",
       "  <tbody>\n",
       "    <tr>\n",
       "      <th>0</th>\n",
       "      <td>0100013606</td>\n",
       "      <td>1</td>\n",
       "      <td>C001</td>\n",
       "      <td>NaN</td>\n",
       "      <td>01</td>\n",
       "      <td>06</td>\n",
       "      <td>NaN</td>\n",
       "      <td>100.0</td>\n",
       "      <td>300.0</td>\n",
       "      <td>Detergentes (polvo, líquido, pasta, gel)</td>\n",
       "      <td>Efectivo</td>\n",
       "      <td>Supermercados</td>\n",
       "    </tr>\n",
       "    <tr>\n",
       "      <th>1</th>\n",
       "      <td>0100013606</td>\n",
       "      <td>1</td>\n",
       "      <td>C003</td>\n",
       "      <td>NaN</td>\n",
       "      <td>01</td>\n",
       "      <td>06</td>\n",
       "      <td>NaN</td>\n",
       "      <td>40.0</td>\n",
       "      <td>120.0</td>\n",
       "      <td>Blanqueadores</td>\n",
       "      <td>Efectivo</td>\n",
       "      <td>Supermercados</td>\n",
       "    </tr>\n",
       "    <tr>\n",
       "      <th>2</th>\n",
       "      <td>0100013606</td>\n",
       "      <td>1</td>\n",
       "      <td>C004</td>\n",
       "      <td>NaN</td>\n",
       "      <td>01</td>\n",
       "      <td>06</td>\n",
       "      <td>NaN</td>\n",
       "      <td>44.0</td>\n",
       "      <td>132.0</td>\n",
       "      <td>Suavizantes de telas</td>\n",
       "      <td>Efectivo</td>\n",
       "      <td>Supermercados</td>\n",
       "    </tr>\n",
       "    <tr>\n",
       "      <th>3</th>\n",
       "      <td>0100013606</td>\n",
       "      <td>1</td>\n",
       "      <td>C005</td>\n",
       "      <td>NaN</td>\n",
       "      <td>01</td>\n",
       "      <td>06</td>\n",
       "      <td>NaN</td>\n",
       "      <td>46.0</td>\n",
       "      <td>138.0</td>\n",
       "      <td>Limpiadores (en polvo o líquido)</td>\n",
       "      <td>Efectivo</td>\n",
       "      <td>Supermercados</td>\n",
       "    </tr>\n",
       "    <tr>\n",
       "      <th>4</th>\n",
       "      <td>0100013606</td>\n",
       "      <td>1</td>\n",
       "      <td>C006</td>\n",
       "      <td>NaN</td>\n",
       "      <td>01</td>\n",
       "      <td>06</td>\n",
       "      <td>NaN</td>\n",
       "      <td>32.0</td>\n",
       "      <td>96.0</td>\n",
       "      <td>Servilletas y papel absorbente</td>\n",
       "      <td>Efectivo</td>\n",
       "      <td>Supermercados</td>\n",
       "    </tr>\n",
       "  </tbody>\n",
       "</table>\n",
       "</div>"
      ],
      "text/plain": [
       "     folioviv foliohog clave mes_dia forma_pag1 lugar_comp  cantidad  gasto  \\\n",
       "0  0100013606        1  C001     NaN         01         06       NaN  100.0   \n",
       "1  0100013606        1  C003     NaN         01         06       NaN   40.0   \n",
       "2  0100013606        1  C004     NaN         01         06       NaN   44.0   \n",
       "3  0100013606        1  C005     NaN         01         06       NaN   46.0   \n",
       "4  0100013606        1  C006     NaN         01         06       NaN   32.0   \n",
       "\n",
       "   gasto_tri                        clave codificación  \\\n",
       "0      300.0  Detergentes (polvo, líquido, pasta, gel)   \n",
       "1      120.0                             Blanqueadores   \n",
       "2      132.0                      Suavizantes de telas   \n",
       "3      138.0          Limpiadores (en polvo o líquido)   \n",
       "4       96.0            Servilletas y papel absorbente   \n",
       "\n",
       "  forma_pag1 codificación lugar_comp codificación  \n",
       "0                Efectivo           Supermercados  \n",
       "1                Efectivo           Supermercados  \n",
       "2                Efectivo           Supermercados  \n",
       "3                Efectivo           Supermercados  \n",
       "4                Efectivo           Supermercados  "
      ]
     },
     "execution_count": 16,
     "metadata": {},
     "output_type": "execute_result"
    }
   ],
   "source": [
    "df_f.head(5)"
   ]
  },
  {
   "cell_type": "code",
   "execution_count": 21,
   "metadata": {},
   "outputs": [
    {
     "name": "stdout",
     "output_type": "stream",
     "text": [
      "<class 'pandas.core.frame.DataFrame'>\n",
      "RangeIndex: 1409409 entries, 0 to 1409408\n",
      "Data columns (total 9 columns):\n",
      " #   Column      Non-Null Count    Dtype  \n",
      "---  ------      --------------    -----  \n",
      " 0   folioviv    1409409 non-null  object \n",
      " 1   foliohog    1409409 non-null  object \n",
      " 2   clave       1409409 non-null  object \n",
      " 3   mes_dia     705526 non-null   object \n",
      " 4   forma_pag1  1261869 non-null  object \n",
      " 5   lugar_comp  1135288 non-null  object \n",
      " 6   cantidad    705526 non-null   float64\n",
      " 7   gasto       1280294 non-null  float64\n",
      " 8   gasto_tri   1278856 non-null  float64\n",
      "dtypes: float64(3), object(6)\n",
      "memory usage: 96.8+ MB\n"
     ]
    }
   ],
   "source": [
    "df_f.info()"
   ]
  },
  {
   "cell_type": "code",
   "execution_count": 20,
   "metadata": {},
   "outputs": [],
   "source": [
    "clave_df = cat['clave']\n",
    "forma_pag1_df = cat['forma_pag1']\n",
    "lugar_comp_df = cat['lugar_comp']\n",
    "\n",
    "clave_df.to_csv(\"catalogos-csv/clave.csv\", index=False)\n",
    "forma_pag1_df.to_csv(\"catalogos-csv/forma_pag1.csv\", index=False)\n",
    "lugar_comp_df.to_csv(\"catalogos-csv/lugar_comp.csv\", index=False)"
   ]
  },
  {
   "cell_type": "code",
   "execution_count": null,
   "metadata": {},
   "outputs": [],
   "source": []
  }
 ],
 "metadata": {
  "kernelspec": {
   "display_name": "Python 3",
   "language": "python",
   "name": "python3"
  },
  "language_info": {
   "codemirror_mode": {
    "name": "ipython",
    "version": 3
   },
   "file_extension": ".py",
   "mimetype": "text/x-python",
   "name": "python",
   "nbconvert_exporter": "python",
   "pygments_lexer": "ipython3",
   "version": "3.10.12"
  },
  "orig_nbformat": 4
 },
 "nbformat": 4,
 "nbformat_minor": 2
}
